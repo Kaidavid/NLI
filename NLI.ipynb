{
  "cells": [
    {
      "cell_type": "markdown",
      "metadata": {
        "id": "view-in-github",
        "colab_type": "text"
      },
      "source": [
        "<a href=\"https://colab.research.google.com/github/Kaidavid/NLI/blob/main/NLI.ipynb\" target=\"_parent\"><img src=\"https://colab.research.google.com/assets/colab-badge.svg\" alt=\"Open In Colab\"/></a>"
      ]
    },
    {
      "cell_type": "code",
      "execution_count": null,
      "metadata": {
        "colab": {
          "base_uri": "https://localhost:8080/"
        },
        "id": "U4CUs62c1lU3",
        "outputId": "f2f0905a-5ec2-4dfa-e71d-9bf5c97ce143"
      },
      "outputs": [
        {
          "name": "stdout",
          "output_type": "stream",
          "text": [
            "\u001b[K     |████████████████████████████████| 441 kB 5.2 MB/s \n",
            "\u001b[K     |████████████████████████████████| 5.5 MB 55.5 MB/s \n",
            "\u001b[K     |████████████████████████████████| 115 kB 70.4 MB/s \n",
            "\u001b[K     |████████████████████████████████| 95 kB 3.6 MB/s \n",
            "\u001b[K     |████████████████████████████████| 212 kB 67.4 MB/s \n",
            "\u001b[K     |████████████████████████████████| 163 kB 66.4 MB/s \n",
            "\u001b[K     |████████████████████████████████| 127 kB 51.3 MB/s \n",
            "\u001b[K     |████████████████████████████████| 7.6 MB 54.5 MB/s \n",
            "\u001b[K     |████████████████████████████████| 115 kB 66.4 MB/s \n",
            "\u001b[?25hLooking in indexes: https://pypi.org/simple, https://us-python.pkg.dev/colab-wheels/public/simple/\n",
            "Collecting sentencepiece\n",
            "  Downloading sentencepiece-0.1.97-cp37-cp37m-manylinux_2_17_x86_64.manylinux2014_x86_64.whl (1.3 MB)\n",
            "\u001b[K     |████████████████████████████████| 1.3 MB 4.7 MB/s \n",
            "\u001b[?25hInstalling collected packages: sentencepiece\n",
            "Successfully installed sentencepiece-0.1.97\n"
          ]
        }
      ],
      "source": [
        "! pip install -q datasets transformers\n",
        "! pip install sentencepiece"
      ]
    },
    {
      "cell_type": "code",
      "execution_count": null,
      "metadata": {
        "id": "lpv2oyx0AtVX"
      },
      "outputs": [],
      "source": [
        "import time\n",
        "import math\n",
        "import torch\n",
        "import pandas as pd\n",
        "import torch.nn as nn\n",
        "from transformers import *\n",
        "from tqdm import tqdm\n",
        "from pathlib import Path\n",
        "from torch.utils.data import Dataset, DataLoader"
      ]
    },
    {
      "cell_type": "code",
      "execution_count": null,
      "metadata": {
        "colab": {
          "base_uri": "https://localhost:8080/",
          "height": 213,
          "referenced_widgets": [
            "9c8ce5b91d0f4e4e9a5fac7abe302d9e",
            "04874c17391f4b1aa4eb1f68274f3423",
            "162a6073bc644b9d82740e6256bfa2e4",
            "dc4e9653c63840f385aa71574f7d47ce",
            "2f7376a345a7498b86176fab63b46f90",
            "46109e0ab366410bb4c5990f2b02c0f5",
            "3ec2d005d7c449bdae4c56d9ad497daa",
            "5014ff3ec29642d09b15eeb7459c9b53",
            "93648cbb398247c683f30dcb1c6190ce",
            "2347c95caae8460c864c663b76e2b278",
            "a369de17bea9452ba87991a7f5f2c665",
            "e13a48c9ab834cd5841a7d2aac97536c",
            "d4bb78cc2f474d7ab7808907eb2dd222",
            "87e8fd1f85904462832cfb4042c2f85d",
            "f1d8a0fea25b4596b8075ce1abd1bb21",
            "51d630af505a4ed6a60f1d9770a293fe",
            "8cf4e9d3e92e4548ae39d37038a1a72d",
            "69a91b1df610417cb77ecbe830188f4a",
            "8c74dc2fe4914acf8fdc1cf852fff29e",
            "ce17d0f8123d442f9eb4d309489f5757",
            "a05769cf845340158d20583aceda02a6",
            "2c9fbd2f33b04b2c9da1132c90b11b62",
            "a3a2ac9d384e453381aa3b6b786425e3",
            "b6c0a4a296e845d6b96e67232aa05017",
            "b5a2ecfce8fb490584d20a0c1b89cf18",
            "4e833fc1d8b54c5eb5228cf1ca3871ea",
            "c9403e925252471893162e98df74507e",
            "1672d0fc0ec44409bed2af72cfc1b870",
            "335b5da8ba0b4529941531470c85cfc4",
            "3bd229f2101941b59cfc738771556e12",
            "7b15d3c05dd74b588638c8f078335d4b",
            "bd4ae2ee0d9045988abe3c4fbbeb696e",
            "90a3bf56690b45239b000a5875019cd8",
            "6a8f919b4dad41ba82f56018a662598d",
            "3dc3f89f26c34fcfa3ea309ca9349bcd",
            "8c6ccb70ec964c5b9c2dccd00b9f951c",
            "cc35277fdfe143a8bc4329a4f7b61ffd",
            "4366dbd5f33e46228a1cecdfa6994d84",
            "7250c8480b39420aa6b52866707cdae8",
            "7006d5ab084345a9934bdbed4a27f33c",
            "a0b554e248894c3a9daa994c023fd099",
            "0f64448b78614bfd8dff82507a4257e7",
            "50fa280f92cd49baa34854243dee15ce",
            "945d3b9244b54e50a9e89a1c3206027b",
            "a8238db8e16c498da9f69cbc7065e453",
            "8720c34815884ac1bbd1c3cdcf89f49c",
            "d6dc9ac0c6884bd9a4d77914ea85317b",
            "b458fa8c1522488092e61c1437a4a98b",
            "422a3ad50f6e4e15a282ccd57c224c2d",
            "2023eb57d3b842d4bf0a01b87ff5b27f",
            "13abb53e5540452688c830796434eb1d",
            "180472b0049548af81003488ab77651b",
            "20f805f611d944ecb99c56187ec8f9ef",
            "15bbc2d4c656470484e0bb988fae38b4",
            "ff4d6ecbc7a1456ba6e8d84d12e0f5f3",
            "f322af6f18644ef1967202c4e716783c",
            "0ef2e31d8c844daa961fe037d142374f",
            "da83d09f124843c3960964e49d85a316",
            "705ae7dbf93c4d929186327e89231139",
            "00783b83a27444948ee67bf46aef3d0c",
            "2eaf239c1e6d4dc48a4f75ef766ff813",
            "0b4408036de04b84b30c0c0d808bbb66",
            "d869367af6904424b0792eb408c2de84",
            "5dd3deec438e42d284f1ce2557316e9d",
            "fe516d508db64a739e1c16b5aaad1136",
            "850cc93d11b041db8d8834c4280466e3",
            "244b065ac97f4514b74ab42913a6632b",
            "bf03e416baaa4af7bd46777412c024fd",
            "e21e135828fd48b0a45e97403bc51651",
            "9717f91b93d44afa9b678a71a92410ba",
            "b00d7ef267ce4cd5b18ee82465687c48",
            "09b5c15afe694598a97fab841249abb5",
            "65bc99237c9e4d50bd65b51b8e5b4053",
            "221e565da161436bb0dd964f29b2148b",
            "7c65969f95b04ae7a90bd7095a1cb5ad",
            "ddea1fa41e18427da732621cc460e1a3",
            "0e183ddde9ae4e26a109d01e31489693"
          ]
        },
        "id": "Xj2t8qac1o7j",
        "outputId": "8bec8963-1958-4de9-c536-2bdf21706aad"
      },
      "outputs": [
        {
          "data": {
            "application/vnd.jupyter.widget-view+json": {
              "model_id": "9c8ce5b91d0f4e4e9a5fac7abe302d9e",
              "version_major": 2,
              "version_minor": 0
            },
            "text/plain": [
              "Downloading builder script:   0%|          | 0.00/23.3k [00:00<?, ?B/s]"
            ]
          },
          "metadata": {},
          "output_type": "display_data"
        },
        {
          "data": {
            "application/vnd.jupyter.widget-view+json": {
              "model_id": "e13a48c9ab834cd5841a7d2aac97536c",
              "version_major": 2,
              "version_minor": 0
            },
            "text/plain": [
              "Downloading metadata:   0%|          | 0.00/22.7k [00:00<?, ?B/s]"
            ]
          },
          "metadata": {},
          "output_type": "display_data"
        },
        {
          "data": {
            "application/vnd.jupyter.widget-view+json": {
              "model_id": "a3a2ac9d384e453381aa3b6b786425e3",
              "version_major": 2,
              "version_minor": 0
            },
            "text/plain": [
              "Downloading readme:   0%|          | 0.00/21.4k [00:00<?, ?B/s]"
            ]
          },
          "metadata": {},
          "output_type": "display_data"
        },
        {
          "name": "stdout",
          "output_type": "stream",
          "text": [
            "Downloading and preparing dataset klue/nli to /root/.cache/huggingface/datasets/klue/nli/1.0.0/e0fc3bc3de3eb03be2c92d72fd04a60ecc71903f821619cb28ca0e1e29e4233e...\n"
          ]
        },
        {
          "data": {
            "application/vnd.jupyter.widget-view+json": {
              "model_id": "6a8f919b4dad41ba82f56018a662598d",
              "version_major": 2,
              "version_minor": 0
            },
            "text/plain": [
              "Downloading data:   0%|          | 0.00/1.26M [00:00<?, ?B/s]"
            ]
          },
          "metadata": {},
          "output_type": "display_data"
        },
        {
          "data": {
            "application/vnd.jupyter.widget-view+json": {
              "model_id": "a8238db8e16c498da9f69cbc7065e453",
              "version_major": 2,
              "version_minor": 0
            },
            "text/plain": [
              "Generating train split:   0%|          | 0/24998 [00:00<?, ? examples/s]"
            ]
          },
          "metadata": {},
          "output_type": "display_data"
        },
        {
          "data": {
            "application/vnd.jupyter.widget-view+json": {
              "model_id": "f322af6f18644ef1967202c4e716783c",
              "version_major": 2,
              "version_minor": 0
            },
            "text/plain": [
              "Generating validation split:   0%|          | 0/3000 [00:00<?, ? examples/s]"
            ]
          },
          "metadata": {},
          "output_type": "display_data"
        },
        {
          "name": "stdout",
          "output_type": "stream",
          "text": [
            "Dataset klue downloaded and prepared to /root/.cache/huggingface/datasets/klue/nli/1.0.0/e0fc3bc3de3eb03be2c92d72fd04a60ecc71903f821619cb28ca0e1e29e4233e. Subsequent calls will reuse this data.\n"
          ]
        },
        {
          "data": {
            "application/vnd.jupyter.widget-view+json": {
              "model_id": "244b065ac97f4514b74ab42913a6632b",
              "version_major": 2,
              "version_minor": 0
            },
            "text/plain": [
              "  0%|          | 0/2 [00:00<?, ?it/s]"
            ]
          },
          "metadata": {},
          "output_type": "display_data"
        }
      ],
      "source": [
        "# KLUE NLI dataset\n",
        "from datasets import load_dataset\n",
        "from easydict import EasyDict as edict\n",
        "\n",
        "klue_nli = load_dataset('klue', 'nli')"
      ]
    },
    {
      "cell_type": "code",
      "execution_count": null,
      "metadata": {
        "colab": {
          "base_uri": "https://localhost:8080/"
        },
        "id": "C0pvSCAcT1sS",
        "outputId": "a07bf174-7867-4947-df3d-0d57f067d685"
      },
      "outputs": [
        {
          "name": "stdout",
          "output_type": "stream",
          "text": [
            "Total data: 27998 \n",
            "Source domain: 22574 \n",
            "Target domain: 5424\n"
          ]
        }
      ],
      "source": [
        "df = pd.concat([pd.DataFrame(klue_nli['train']), pd.DataFrame(klue_nli['validation'])], axis=0)\n",
        "df_source_domain = df[df['source'] != 'airbnb']\n",
        "df_target_domain = df[df['source'] == 'airbnb']\n",
        "\n",
        "print(f\"Total data: {df.shape[0]} \\nSource domain: {df_source_domain.shape[0]} \\nTarget domain: {df_target_domain.shape[0]}\")"
      ]
    },
    {
      "cell_type": "code",
      "execution_count": null,
      "metadata": {
        "colab": {
          "base_uri": "https://localhost:8080/"
        },
        "id": "orKxg8mrL0Aa",
        "outputId": "01c84154-4c59-4149-ebec-4de4128d4ad8"
      },
      "outputs": [
        {
          "name": "stdout",
          "output_type": "stream",
          "text": [
            "Given Data\n",
            "{'guid': 'klue-nli-v1_dev_00000', 'source': 'airbnb', 'premise': '흡연자분들은 발코니가 있는 방이면 발코니에서 흡연이 가능합니다.', 'hypothesis': '어떤 방에서도 흡연은 금지됩니다.', 'label': 2}\n",
            "{'guid': 'klue-nli-v1_dev_00001', 'source': 'airbnb', 'premise': '10명이 함께 사용하기 불편함없이 만족했다.', 'hypothesis': '10명이 함께 사용하기 불편함이 많았다.', 'label': 2}\n",
            "{'guid': 'klue-nli-v1_dev_00002', 'source': 'airbnb', 'premise': '10명이 함께 사용하기 불편함없이 만족했다.', 'hypothesis': '성인 10명이 함께 사용하기 불편함없이 없었다.', 'label': 1}\n",
            "{'guid': 'klue-nli-v1_dev_00003', 'source': 'airbnb', 'premise': '10명이 함께 사용하기 불편함없이 만족했다.', 'hypothesis': '10명이 함께 사용하기에 만족스러웠다.', 'label': 0}\n",
            "{'guid': 'klue-nli-v1_dev_00004', 'source': 'airbnb', 'premise': '10층에 건물사람들만 이용하는 수영장과 썬베드들이 있구요.', 'hypothesis': '건물사람들은 수영장과 썬베드를 이용할 수 있습니다.', 'label': 0}\n",
            "{'guid': 'klue-nli-v1_dev_00005', 'source': 'airbnb', 'premise': '10층에 건물사람들만 이용하는 수영장과 썬베드들이 있구요.', 'hypothesis': '수영장과 썬베드는 9층에 있습니다.', 'label': 2}\n",
            "{'guid': 'klue-nli-v1_dev_00006', 'source': 'airbnb', 'premise': '10층에 건물사람들만 이용하는 수영장과 썬베드들이 있구요.', 'hypothesis': '수영장과 썬베드는 유료입니다.', 'label': 1}\n",
            "{'guid': 'klue-nli-v1_dev_00007', 'source': 'wikinews', 'premise': '11월 5일, 정부가 국무회의에서 통합진보당에 대한 해산심판 청구안을 통과시켰으며, 이애 따라 대한민국 법무부는 즉시 해산 청구서를 제출했다.', 'hypothesis': '법무부가 해산심판 청구안을 통과시킨 후 정부가 해산 청구서를 제출하였다.', 'label': 2}\n",
            "{'guid': 'klue-nli-v1_dev_00008', 'source': 'wikinews', 'premise': '11월 5일, 정부가 국무회의에서 통합진보당에 대한 해산심판 청구안을 통과시켰으며, 이애 따라 대한민국 법무부는 즉시 해산 청구서를 제출했다.', 'hypothesis': '법무부가 청구서를 제출한 3일 뒤에 통합진보당은 해산됐다.', 'label': 1}\n",
            "{'guid': 'klue-nli-v1_dev_00009', 'source': 'wikinews', 'premise': '11월 5일, 정부가 국무회의에서 통합진보당에 대한 해산심판 청구안을 통과시켰으며, 이애 따라 대한민국 법무부는 즉시 해산 청구서를 제출했다.', 'hypothesis': '정부는 통합진보당의 해산에 동의하였다.', 'label': 0}\n",
            "\n",
            "Extract 'source': 'aribnb' for validation\n",
            "{'guid': 'klue-nli-v1_train_00004', 'source': 'airbnb', 'premise': '101빌딩 근처에 나름 즐길거리가 많습니다.', 'hypothesis': '101빌딩 근처에서 즐길거리 찾기는 어렵습니다.', 'label': 2}\n",
            "{'guid': 'klue-nli-v1_train_00005', 'source': 'airbnb', 'premise': '101빌딩 근처에 나름 즐길거리가 많습니다.', 'hypothesis': '101빌딩 주변에 젊은이들이 즐길거리가 많습니다.', 'label': 1}\n",
            "{'guid': 'klue-nli-v1_train_00006', 'source': 'airbnb', 'premise': '101빌딩 근처에 나름 즐길거리가 많습니다.', 'hypothesis': '101빌딩 부근에서는 여러가지를 즐길수 있습니다.', 'label': 0}\n",
            "{'guid': 'klue-nli-v1_train_00022', 'source': 'airbnb', 'premise': '10분내외 주변에 마트가 3곳이 있습니다.', 'hypothesis': '가장 큰 마트는 가장 가까이 있습니다.', 'label': 1}\n",
            "{'guid': 'klue-nli-v1_train_00023', 'source': 'airbnb', 'premise': '10분내외 주변에 마트가 3곳이 있습니다.', 'hypothesis': '가까이에 마트가 있습니다.', 'label': 0}\n",
            "{'guid': 'klue-nli-v1_train_00024', 'source': 'airbnb', 'premise': '10분내외 주변에 마트가 3곳이 있습니다.', 'hypothesis': '30분 거리 내에는 음식점 뿐입니다.', 'label': 1}\n",
            "{'guid': 'klue-nli-v1_train_00312', 'source': 'airbnb', 'premise': '1번 2번 바포레토 선착장이 가까이에 있어요', 'hypothesis': '1번 2번 바포레토 선착장까지 걸어가면 금방 도착합니다.', 'label': 1}\n",
            "{'guid': 'klue-nli-v1_train_00313', 'source': 'airbnb', 'premise': '1번 2번 바포레토 선착장이 가까이에 있어요', 'hypothesis': '1번 2번 바포레토 선착장과 가까워요.', 'label': 0}\n",
            "{'guid': 'klue-nli-v1_train_00314', 'source': 'airbnb', 'premise': '1번 2번 바포레토 선착장이 가까이에 있어요', 'hypothesis': '1번 2번 바포레토 선착장은 너무 멀어요.', 'label': 2}\n",
            "{'guid': 'klue-nli-v1_train_00327', 'source': 'airbnb', 'premise': '1월 여행의 가장 큰 걱정은 추위였어요.', 'hypothesis': '1월 여행에서 추위 따위는 걱정되지 않았어요.', 'label': 2}\n"
          ]
        }
      ],
      "source": [
        "class MyDataset(Dataset):\n",
        "  def __init__(self, source, target):\n",
        "    self.X = source.to_dict('records')\n",
        "    self.Y = target.to_dict('records')\n",
        "\n",
        "  def __getitem__(self, index):\n",
        "    if index == 'train':\n",
        "      return self.X\n",
        "    elif index == 'validation':\n",
        "      return self.Y\n",
        "    else:\n",
        "      return \"Wrong Input\"\n",
        "\n",
        "  def __len__(self):\n",
        "    return 2\n",
        "\n",
        "klue_nli_new = MyDataset(df_source_domain, df_target_domain)\n",
        "\n",
        "def sample_data(how_many):\n",
        "  print(\"Given Data\")\n",
        "  for i in range(how_many):\n",
        "    print(klue_nli['validation'][i])\n",
        "\n",
        "  print(\"\\nExtract 'source': 'aribnb' for validation\")\n",
        "  for i in range(how_many):\n",
        "    print(klue_nli_new['validation'][i])\n",
        "\n",
        "sample_data(10)"
      ]
    },
    {
      "cell_type": "code",
      "execution_count": null,
      "metadata": {
        "colab": {
          "base_uri": "https://localhost:8080/"
        },
        "id": "cnugaKJAL_Ja",
        "outputId": "ca8f1d84-4445-46f4-af22-6801342be652"
      },
      "outputs": [
        {
          "name": "stdout",
          "output_type": "stream",
          "text": [
            "Mounted at /gdrive\n"
          ]
        }
      ],
      "source": [
        "import os\n",
        "from google.colab import drive\n",
        "drive.mount('/gdrive')\n",
        "root = '/gdrive/My Drive/Supercoder'\n",
        "os.chdir(root)"
      ]
    },
    {
      "cell_type": "code",
      "execution_count": null,
      "metadata": {
        "id": "S26SD5r-qc0j"
      },
      "outputs": [],
      "source": [
        "torch.manual_seed(470)\n",
        "torch.cuda.manual_seed(470)\n",
        "\n",
        "args = edict()\n",
        "\n",
        "args.batch_size = 32\n",
        "args.epoch = 400\n",
        "\n",
        "train_dataloader = DataLoader(klue_nli_new['train'], batch_size=args.batch_size, shuffle=True)\n",
        "val_dataloader = DataLoader(klue_nli_new['validation'], batch_size=args.batch_size, shuffle=True)"
      ]
    },
    {
      "cell_type": "code",
      "execution_count": null,
      "metadata": {
        "id": "3iFEG0BWkM-n"
      },
      "outputs": [],
      "source": [
        "def truncation(tokenizer, sent1, sent2, max_length):\n",
        "  ids_sent1 = tokenizer.encode(sent1)[1:-1]\n",
        "  ids_sent2 = tokenizer.encode(sent2)[1:-1]\n",
        "  half = max_length // 2\n",
        "\n",
        "  if len(ids_sent1) > half-2 and len(ids_sent2) < half-2 and len(ids_sent1) + len(ids_sent2) > max_length-4 :\n",
        "    ids_sent1 = ids_sent1[: max_length-4-len(ids_sent2)]\n",
        "\n",
        "  elif len(ids_sent1) < half-2 and len(ids_sent2) > half-2 and len(ids_sent1) + len(ids_sent2) > max_length-4 :\n",
        "    ids_sent2 = ids_sent2[: max_length-4-len(ids_sent1)]\n",
        " \n",
        "  elif len(ids_sent1) > half-2 and len(ids_sent2) > half-2 :\n",
        "    ids_sent1 = ids_sent1[: half-2]\n",
        "    ids_sent2 = ids_sent2[: half-2]\n",
        "\n",
        "  return tokenizer.decode(ids_sent1), tokenizer.decode(ids_sent2)"
      ]
    },
    {
      "cell_type": "code",
      "execution_count": null,
      "metadata": {
        "id": "kMsMoqljXgyE"
      },
      "outputs": [],
      "source": [
        "def get_pair_input(tokenizer, sent1, sent2, model_type, max_length):\n",
        "\n",
        "  sent1, sent2 = truncation(tokenizer, sent1, sent2, max_length)\n",
        "\n",
        "  if 'roberta' in model_type:\n",
        "    text = \"<s> {} </s></s> {} </s>\".format(sent1, sent2)\n",
        "  else:\n",
        "    text = \"[CLS] {} [SEP] {} [SEP]\".format(sent1, sent2)\n",
        "\n",
        "  tokenized_text = tokenizer.tokenize(text)\n",
        "  indexed_tokens = tokenizer.encode(text)[1:-1]\n",
        "  assert len(tokenized_text) == len(indexed_tokens)\n",
        "\n",
        "  # Define sentence A and B indices associated to 1st and 2nd sentences (see paper)\n",
        "  segments_ids = []\n",
        "  sep_flag = False\n",
        "\n",
        "  for i in range(len(indexed_tokens)):\n",
        "    if 'roberta' in model_type and tokenized_text[i] == '</s>' and not sep_flag:\n",
        "      segments_ids.append(0)\n",
        "      sep_flag = True\n",
        "    elif 'bert-' in model_type and tokenized_text[i] == '[SEP]' and not sep_flag:\n",
        "      segments_ids.append(0)\n",
        "      sep_flag = True\n",
        "    elif sep_flag:\n",
        "      segments_ids.append(1)\n",
        "    else:\n",
        "      segments_ids.append(0)\n",
        "  return indexed_tokens, segments_ids"
      ]
    },
    {
      "cell_type": "code",
      "execution_count": null,
      "metadata": {
        "id": "S3MPmdqrYnnL"
      },
      "outputs": [],
      "source": [
        "def build_batch(tokenizer, sent_pair_list, model_type, max_length):\n",
        "  token_id_list = []\n",
        "  segment_list = []\n",
        "  attention_masks = []\n",
        "\n",
        "  for pair in sent_pair_list:\n",
        "    sent1, sent2 = pair \n",
        "    ids, segs = get_pair_input(tokenizer, sent1, sent2, model_type, max_length)\n",
        "    \n",
        "    token_id_list.append(ids)\n",
        "    segment_list.append(segs)\n",
        "    attention_masks.append([1]*len(ids))\n",
        "\n",
        "  if len(token_id_list) == 0:\n",
        "    return None, None, None\n",
        "\n",
        "  # PADDING\n",
        "  assert(len(token_id_list) == len(segment_list))\n",
        "  \n",
        "  for ii in range(len(token_id_list)):\n",
        "    token_id_list[ii] += [0]*(max_length-len(token_id_list[ii]))\n",
        "    segment_list[ii] += [1]*(max_length-len(segment_list[ii]))\n",
        "    attention_masks[ii] += [0]*(max_length-len(attention_masks[ii]))\n",
        "\n",
        "  return token_id_list, segment_list, attention_masks"
      ]
    },
    {
      "cell_type": "code",
      "execution_count": null,
      "metadata": {
        "id": "p1neSOyJaPJh"
      },
      "outputs": [],
      "source": [
        "class BERTNLIModel(nn.Module):\n",
        "  def __init__(self, bert_type='bert-base-multilingual-cased', label_num=3, max_length=512):\n",
        "    super(BERTNLIModel, self).__init__() \n",
        "    self.bert_type = bert_type\n",
        "    self.max_length = max_length\n",
        "\n",
        "    if 'bert-base-uncased' in bert_type:\n",
        "      self.bert = BertModel.from_pretrained(bert_type)\n",
        "      self.tokenizer = BertTokenizer.from_pretrained(bert_type)\n",
        "      \n",
        "    elif 'bert-large' in bert_type:\n",
        "      self.bert = BertModel.from_pretrained(bert_type)\n",
        "      self.tokenizer = BertTokenizer.from_pretrained(bert_type)\n",
        "  \n",
        "    elif 'roberta' in bert_type:\n",
        "      self.bert = AutoModelForMaskedLM.from_pretrained(bert_type)\n",
        "      self.tokenizer = AutoTokenizer.from_pretrained(bert_type)\n",
        "\n",
        "    elif 'multilingual' in bert_type:\n",
        "      config = AutoConfig.from_pretrained(bert_type, num_labels=label_num, output_hidden_states=True)\n",
        "      self.bert = AutoModelForSequenceClassification.from_pretrained(bert_type, config=config)\n",
        "      self.tokenizer = AutoTokenizer.from_pretrained(bert_type)\n",
        "\n",
        "    elif 'albert' in bert_type:\n",
        "      self.bert = AlbertModel.from_pretrained(bert_type)\n",
        "      self.tokenizer = AlbertTokenizer.from_pretrained(bert_type)\n",
        "\n",
        "    else:\n",
        "      print('illegal bert type {}!'.format(bert_type))\n",
        "\n",
        "    self.nli_head = nn.Linear(self.bert.config.hidden_size, 128)\n",
        "    self.nli_tail = nn.Linear(128, label_num)\n",
        "    self.bn = nn.BatchNorm1d(128)\n",
        "    self.act = nn.ReLU()\n",
        "    self.dp = nn.Dropout(0.2)\n",
        "\n",
        "\n",
        "  def forward(self, sent_pair_list, method):\n",
        "    ids, types, masks = build_batch(self.tokenizer, sent_pair_list, self.bert_type, self.max_length)\n",
        "\n",
        "    if ids is None: return None\n",
        "\n",
        "    ids_tensor = torch.tensor(ids).cuda()\n",
        "    types_tensor = torch.tensor(types).cuda()\n",
        "    masks_tensor = torch.tensor(masks).cuda()\n",
        "\n",
        "    assert ids_tensor.size() == types_tensor.size() == masks_tensor.size()\n",
        "    \n",
        "    hidden_states = self.bert(input_ids=ids_tensor, token_type_ids=types_tensor, attention_mask=masks_tensor).hidden_states\n",
        "    last_hidden_state = hidden_states[-1]\n",
        "\n",
        "    if method == 0:\n",
        "      output = last_hidden_state[:, 0, :]\n",
        "\n",
        "    else:\n",
        "      mask_expanded = masks_tensor.unsqueeze(-1).expand(last_hidden_state.size())      \n",
        "      # Compute embedding of sentence from hidden state of each token in the sentence\n",
        "      output = torch.sum(last_hidden_state * mask_expanded, 1) / torch.clamp(mask_expanded.sum(1), min=1e-9)\n",
        "\n",
        "    output = self.dp(self.act(self.bn(self.nli_head(output))))\n",
        "    output = self.nli_tail(output)\n",
        "\n",
        "    return output"
      ]
    },
    {
      "cell_type": "code",
      "execution_count": null,
      "metadata": {
        "id": "oNazJn2Z9A3X"
      },
      "outputs": [],
      "source": [
        "#  method=0: takes embedding of the first token, method=1: averages embeddings of all tokens from the last hidden state\n",
        "method = 0  # to change the way the last hidden state is used ----> method=1: performs worse\n",
        "ckpt_dir = Path(root + f'/ckpt_{method}')\n",
        "ckpt_dir.mkdir(parents=True, exist_ok=True)"
      ]
    },
    {
      "cell_type": "code",
      "execution_count": null,
      "metadata": {
        "id": "iCw4aa2fwrO5"
      },
      "outputs": [],
      "source": [
        "def train(model, optimizer, scheduler, criterion, model_type, method=0):\n",
        "  best_accuracy = 0\n",
        "  ep = 0\n",
        "  training_loss, training_accuracy = [], []\n",
        "  validation_loss, validation_accuracy = [], []\n",
        "\n",
        "  if len(os.listdir(ckpt_dir)) != 0:\n",
        "    try:\n",
        "      checkpoint = torch.load(f'{ckpt_dir}/{model_type}_best.pt')\n",
        "      model.load_state_dict(checkpoint['model_state_dict'])\n",
        "      optimizer.load_state_dict(checkpoint['optimizer_state_dict'])\n",
        "      ep = checkpoint['epoch'] + 1\n",
        "      best_accuracy = checkpoint['best_accuracy']\n",
        "      print(f\"Resuming from previous episode: {ep}, best_accuracy: {best_accuracy}\")\n",
        "    except:\n",
        "      print(f\"Something wrong with {ckpt_dir}/{model_type}_best.pt model. Please remove it!\")\n",
        "\n",
        "  for epoch in range(ep, args.epoch):\n",
        "    # Here starts the train loop.\n",
        "    model.train()\n",
        "\n",
        "    train_loss = 0.\n",
        "    train_accuracy = 0.\n",
        "    train_num_data = 0.\n",
        "\n",
        "    for batch_idx, data in tqdm(enumerate(train_dataloader)):\n",
        "      sent_1 = data['premise']\n",
        "      sent_2 = data['hypothesis']\n",
        "      labels = data['label'].cuda()\n",
        "\n",
        "      logit = model(zip(sent_1, sent_2), method)\n",
        "\n",
        "      # Compute accuracy of this batch using `logit`, and keep it in a variable called 'accuracy'.\n",
        "      accuracy = (logit.argmax(1) == labels).float().mean()\n",
        "\n",
        "      # Compute loss using `logit` and `y`, and keep it in a variable called `loss`.\n",
        "      loss = criterion(logit, labels)\n",
        "\n",
        "      # flush out the previously computed gradient.\n",
        "      optimizer.zero_grad()\n",
        "\n",
        "      # backward the computed loss.\n",
        "      loss.backward()\n",
        "\n",
        "      # update the network weights.\n",
        "      optimizer.step()\n",
        "\n",
        "      train_loss += loss.item()*len(labels)\n",
        "      train_accuracy += accuracy.item()*len(labels)\n",
        "      train_num_data += len(labels)\n",
        "\n",
        "    train_loss /= train_num_data\n",
        "    train_accuracy /= train_num_data\n",
        "\n",
        "    training_loss.append(train_loss)\n",
        "    training_accuracy.append(train_accuracy)\n",
        "\n",
        "    print(f'Training result {epoch}/{args.epoch} || loss : {train_loss:.3f} acc : {train_accuracy:.3f} ')\n",
        "\n",
        "    # Here starts the validation loop.\n",
        "    model.eval()\n",
        "    with torch.no_grad():\n",
        "      val_loss = 0.\n",
        "      val_accuracy = 0.\n",
        "      val_num_data = 0.\n",
        "      for batch_idx, data in tqdm(enumerate(val_dataloader)):\n",
        "        sent_1 = data['premise']\n",
        "        sent_2 = data['hypothesis']\n",
        "        labels = data['label'].cuda()\n",
        "\n",
        "        logit = model(zip(sent_1, sent_2), method)\n",
        "\n",
        "        # Compute loss using `logit` and `y`, and keep it in a variable called `loss`.\n",
        "        loss = criterion(logit, labels)\n",
        "\n",
        "        # Compute accuracy of this batch using `logit`, and keep it in a variable called 'accuracy'.\n",
        "        accuracy = (logit.argmax(dim=1) == labels).float().mean()\n",
        "\n",
        "        val_loss += loss.item()*len(labels)\n",
        "        val_accuracy += accuracy.item()*len(labels)\n",
        "        val_num_data += len(labels)\n",
        "\n",
        "      val_loss /= val_num_data\n",
        "      val_accuracy /= val_num_data\n",
        "\n",
        "      validation_loss.append(val_loss)\n",
        "      validation_accuracy.append(val_accuracy)\n",
        "\n",
        "      print(f'Validation result {epoch}/{args.epoch} || loss : {val_loss:.3f} acc : {val_accuracy:.3f} ')\n",
        "\n",
        "      # Whenever `test_accuracy` is greater than `best_accuracy`, save network weights with the filename 'best.pt' in the directory specified by `ckpt_dir`.\n",
        "      if val_accuracy > best_accuracy:\n",
        "        best_accuracy = val_accuracy\n",
        "        torch.save(\n",
        "            {\n",
        "              'epoch': epoch,\n",
        "              'model_state_dict': model.state_dict(),\n",
        "              'optimizer_state_dict': optimizer.state_dict(),\n",
        "              'best_accuracy': best_accuracy\n",
        "            },\n",
        "            f'{ckpt_dir}/{model_type}_best.pt')\n",
        "\n",
        "    scheduler.step()\n",
        "\n",
        "  return best_accuracy, training_loss, training_accuracy, validation_loss, validation_accuracy"
      ]
    },
    {
      "cell_type": "code",
      "execution_count": null,
      "metadata": {
        "id": "x0i098CFKDeH"
      },
      "outputs": [],
      "source": [
        "def get_scheduler(optimizer, scheduler: str, warmup_steps: int, t_total: int):\n",
        "  scheduler = scheduler.lower()\n",
        "  if scheduler=='constantlr':\n",
        "    return get_constant_schedule(optimizer)\n",
        "  elif scheduler=='warmupconstant':\n",
        "    return get_constant_schedule_with_warmup(optimizer, num_warmup_steps=warmup_steps)\n",
        "  elif scheduler=='warmuplinear':\n",
        "    return get_linear_schedule_with_warmup(optimizer, num_warmup_steps=warmup_steps, num_training_steps=t_total)\n",
        "  elif scheduler=='warmupcosine':\n",
        "    return get_cosine_schedule_with_warmup(optimizer, num_warmup_steps=warmup_steps, num_training_steps=t_total)\n",
        "  elif scheduler=='warmupcosinewithhardrestarts':\n",
        "    return get_cosine_with_hard_restarts_schedule_with_warmup(optimizer, num_warmup_steps=warmup_steps, num_training_steps=t_total)\n",
        "  else:\n",
        "    raise ValueError(\"Unknown scheduler {}\".format(scheduler))"
      ]
    },
    {
      "cell_type": "code",
      "execution_count": null,
      "metadata": {
        "colab": {
          "background_save": true,
          "base_uri": "https://localhost:8080/",
          "height": 1000,
          "referenced_widgets": [
            "0dcc4ab2711949b6a0ea9a95e35551a9",
            "9943858b762b40ca903a15ee62c57bd7",
            "446959d43b104e5eac9bed7900b90925",
            "3974d27bae8b4ce68b1f489249260309",
            "19c6fad33b8b4101a762a4f65df38d16",
            "f29a7f7b5ff54bd090141a9b36495fbb",
            "343f8918639d44028703e051835d5442",
            "63eddf75af274cc0a8f9512d9d164de0",
            "119e396bb9794b729e899e67379de7b3",
            "1431ae2235654db0a479f6b38fa13818",
            "08e32bc97c3b47b9a727f26f402224ae",
            "a6fca282f73c4ea598e1a682e41f547c",
            "6258b3d476e5411ea90c10d81e3d06cd",
            "4c0279aefdea42319960a5ddacc3fd80",
            "db06d404eff640d7bfef0ff62c6b2c28",
            "17ce895b921c4301b13ae8d75011aa2a",
            "6f896e22fc304b04ab3463d673dff859",
            "63bb10e825824d1286c61d7648e69680",
            "64d7e39e4ba94c65a9bd81227da2c32c",
            "af85c6147e1d41818a14e0a66f42eac0",
            "b846a9daa5664b1d8abb8867bbfad9bd",
            "6ae08cd038e14259a75c15ddb21f249f",
            "353118f9bdff4f038708577188d5bd9d",
            "47b7cb9e476d48cf8e86597166616990",
            "1435b179a1ac4904a9e3506ed0d316c3",
            "684622850ac64ffe9e2922eb0ba7ff68",
            "197453c847204633b622d4cf6c09f17e",
            "6318c48298394f719885fce4b53322fb",
            "6960d318eb7f4b5b8cf74065548992dd",
            "c19658b019644157b3949191d1df2f51",
            "a6a007014d184148ae6dde801bb4abc3",
            "65fe52ce67cc41daa56b7a031c106ea1",
            "678a4f4ddee3441a9840bd536720c109",
            "40f84637ebab45b7b2a7780b32882ce0",
            "5c7ca0ee98174ceaa784762502ac66c9",
            "d8f9ea2cee4f4e0ba6c6f4fae7fbe9e3",
            "9f5240f4446642e2b103d5cad17d2c7a",
            "f272cf655ef347ac9d81f3452e39e8e6",
            "ee0fa46c27434cb5ae1216d85e49cac7",
            "df918c9893504cc1b25744033e7e9258",
            "ad5bf7a0b6e348d89c11c5f0957897c8",
            "5ab2a96256af4ea9b4b7d8338f35eaa4",
            "03de7b6f3ae94dcd94ce7bc02fc880b4",
            "03113ae0eccc466fa8c2c1267c5605f8",
            "59ad0903f594474eb89c7ce1900259b7",
            "6951ea00dbbe450988056f5d392ebf3b",
            "50bfc140797048e8a4d918baf63bb669",
            "70dd04659c244abfbb9e29e3febcd2bf",
            "84fb5cbf699240cd8c3acbccad56afe6",
            "a6fdf939a3f0431a98ebe5a7a7ae6e40",
            "dfc6b2425d7c4a5f90e9ed8c8f719494",
            "aa0c8b6957af40e3b4047a5110fe6bcf",
            "c4cc364e2499441bb26f03f9abf29182",
            "39cdc27b4b7c4272b38318a1eb32be27",
            "31cdb44ba7c7462f9011de361b350ae2"
          ]
        },
        "id": "pr9tERq6H-CM",
        "outputId": "8e1bcf02-025c-48c4-c37d-68ece3b76714"
      },
      "outputs": [
        {
          "data": {
            "application/vnd.jupyter.widget-view+json": {
              "model_id": "0dcc4ab2711949b6a0ea9a95e35551a9",
              "version_major": 2,
              "version_minor": 0
            },
            "text/plain": [
              "Downloading:   0%|          | 0.00/625 [00:00<?, ?B/s]"
            ]
          },
          "metadata": {},
          "output_type": "display_data"
        },
        {
          "name": "stderr",
          "output_type": "stream",
          "text": [
            "loading configuration file config.json from cache at /root/.cache/huggingface/hub/models--bert-base-multilingual-cased/snapshots/cf732291d5a8eace7b973ccd13c95ec07b19e734/config.json\n",
            "Model config BertConfig {\n",
            "  \"_name_or_path\": \"bert-base-multilingual-cased\",\n",
            "  \"architectures\": [\n",
            "    \"BertForMaskedLM\"\n",
            "  ],\n",
            "  \"attention_probs_dropout_prob\": 0.1,\n",
            "  \"classifier_dropout\": null,\n",
            "  \"directionality\": \"bidi\",\n",
            "  \"hidden_act\": \"gelu\",\n",
            "  \"hidden_dropout_prob\": 0.1,\n",
            "  \"hidden_size\": 768,\n",
            "  \"id2label\": {\n",
            "    \"0\": \"LABEL_0\",\n",
            "    \"1\": \"LABEL_1\",\n",
            "    \"2\": \"LABEL_2\"\n",
            "  },\n",
            "  \"initializer_range\": 0.02,\n",
            "  \"intermediate_size\": 3072,\n",
            "  \"label2id\": {\n",
            "    \"LABEL_0\": 0,\n",
            "    \"LABEL_1\": 1,\n",
            "    \"LABEL_2\": 2\n",
            "  },\n",
            "  \"layer_norm_eps\": 1e-12,\n",
            "  \"max_position_embeddings\": 512,\n",
            "  \"model_type\": \"bert\",\n",
            "  \"num_attention_heads\": 12,\n",
            "  \"num_hidden_layers\": 12,\n",
            "  \"output_hidden_states\": true,\n",
            "  \"pad_token_id\": 0,\n",
            "  \"pooler_fc_size\": 768,\n",
            "  \"pooler_num_attention_heads\": 12,\n",
            "  \"pooler_num_fc_layers\": 3,\n",
            "  \"pooler_size_per_head\": 128,\n",
            "  \"pooler_type\": \"first_token_transform\",\n",
            "  \"position_embedding_type\": \"absolute\",\n",
            "  \"transformers_version\": \"4.24.0\",\n",
            "  \"type_vocab_size\": 2,\n",
            "  \"use_cache\": true,\n",
            "  \"vocab_size\": 119547\n",
            "}\n",
            "\n"
          ]
        },
        {
          "data": {
            "application/vnd.jupyter.widget-view+json": {
              "model_id": "a6fca282f73c4ea598e1a682e41f547c",
              "version_major": 2,
              "version_minor": 0
            },
            "text/plain": [
              "Downloading:   0%|          | 0.00/714M [00:00<?, ?B/s]"
            ]
          },
          "metadata": {},
          "output_type": "display_data"
        },
        {
          "name": "stderr",
          "output_type": "stream",
          "text": [
            "loading weights file pytorch_model.bin from cache at /root/.cache/huggingface/hub/models--bert-base-multilingual-cased/snapshots/cf732291d5a8eace7b973ccd13c95ec07b19e734/pytorch_model.bin\n",
            "Some weights of the model checkpoint at bert-base-multilingual-cased were not used when initializing BertForSequenceClassification: ['cls.predictions.decoder.weight', 'cls.predictions.transform.dense.weight', 'cls.seq_relationship.weight', 'cls.seq_relationship.bias', 'cls.predictions.transform.LayerNorm.bias', 'cls.predictions.bias', 'cls.predictions.transform.LayerNorm.weight', 'cls.predictions.transform.dense.bias']\n",
            "- This IS expected if you are initializing BertForSequenceClassification from the checkpoint of a model trained on another task or with another architecture (e.g. initializing a BertForSequenceClassification model from a BertForPreTraining model).\n",
            "- This IS NOT expected if you are initializing BertForSequenceClassification from the checkpoint of a model that you expect to be exactly identical (initializing a BertForSequenceClassification model from a BertForSequenceClassification model).\n",
            "Some weights of BertForSequenceClassification were not initialized from the model checkpoint at bert-base-multilingual-cased and are newly initialized: ['classifier.weight', 'classifier.bias']\n",
            "You should probably TRAIN this model on a down-stream task to be able to use it for predictions and inference.\n",
            "Could not locate the tokenizer configuration file, will try to use the model config instead.\n",
            "loading configuration file config.json from cache at /root/.cache/huggingface/hub/models--bert-base-multilingual-cased/snapshots/cf732291d5a8eace7b973ccd13c95ec07b19e734/config.json\n",
            "Model config BertConfig {\n",
            "  \"_name_or_path\": \"bert-base-multilingual-cased\",\n",
            "  \"architectures\": [\n",
            "    \"BertForMaskedLM\"\n",
            "  ],\n",
            "  \"attention_probs_dropout_prob\": 0.1,\n",
            "  \"classifier_dropout\": null,\n",
            "  \"directionality\": \"bidi\",\n",
            "  \"hidden_act\": \"gelu\",\n",
            "  \"hidden_dropout_prob\": 0.1,\n",
            "  \"hidden_size\": 768,\n",
            "  \"initializer_range\": 0.02,\n",
            "  \"intermediate_size\": 3072,\n",
            "  \"layer_norm_eps\": 1e-12,\n",
            "  \"max_position_embeddings\": 512,\n",
            "  \"model_type\": \"bert\",\n",
            "  \"num_attention_heads\": 12,\n",
            "  \"num_hidden_layers\": 12,\n",
            "  \"pad_token_id\": 0,\n",
            "  \"pooler_fc_size\": 768,\n",
            "  \"pooler_num_attention_heads\": 12,\n",
            "  \"pooler_num_fc_layers\": 3,\n",
            "  \"pooler_size_per_head\": 128,\n",
            "  \"pooler_type\": \"first_token_transform\",\n",
            "  \"position_embedding_type\": \"absolute\",\n",
            "  \"transformers_version\": \"4.24.0\",\n",
            "  \"type_vocab_size\": 2,\n",
            "  \"use_cache\": true,\n",
            "  \"vocab_size\": 119547\n",
            "}\n",
            "\n"
          ]
        },
        {
          "data": {
            "application/vnd.jupyter.widget-view+json": {
              "model_id": "353118f9bdff4f038708577188d5bd9d",
              "version_major": 2,
              "version_minor": 0
            },
            "text/plain": [
              "Downloading:   0%|          | 0.00/29.0 [00:00<?, ?B/s]"
            ]
          },
          "metadata": {},
          "output_type": "display_data"
        },
        {
          "data": {
            "application/vnd.jupyter.widget-view+json": {
              "model_id": "40f84637ebab45b7b2a7780b32882ce0",
              "version_major": 2,
              "version_minor": 0
            },
            "text/plain": [
              "Downloading:   0%|          | 0.00/996k [00:00<?, ?B/s]"
            ]
          },
          "metadata": {},
          "output_type": "display_data"
        },
        {
          "data": {
            "application/vnd.jupyter.widget-view+json": {
              "model_id": "59ad0903f594474eb89c7ce1900259b7",
              "version_major": 2,
              "version_minor": 0
            },
            "text/plain": [
              "Downloading:   0%|          | 0.00/1.96M [00:00<?, ?B/s]"
            ]
          },
          "metadata": {},
          "output_type": "display_data"
        },
        {
          "name": "stderr",
          "output_type": "stream",
          "text": [
            "loading file vocab.txt from cache at /root/.cache/huggingface/hub/models--bert-base-multilingual-cased/snapshots/cf732291d5a8eace7b973ccd13c95ec07b19e734/vocab.txt\n",
            "loading file tokenizer.json from cache at /root/.cache/huggingface/hub/models--bert-base-multilingual-cased/snapshots/cf732291d5a8eace7b973ccd13c95ec07b19e734/tokenizer.json\n",
            "loading file added_tokens.json from cache at None\n",
            "loading file special_tokens_map.json from cache at None\n",
            "loading file tokenizer_config.json from cache at /root/.cache/huggingface/hub/models--bert-base-multilingual-cased/snapshots/cf732291d5a8eace7b973ccd13c95ec07b19e734/tokenizer_config.json\n",
            "loading configuration file config.json from cache at /root/.cache/huggingface/hub/models--bert-base-multilingual-cased/snapshots/cf732291d5a8eace7b973ccd13c95ec07b19e734/config.json\n",
            "Model config BertConfig {\n",
            "  \"_name_or_path\": \"bert-base-multilingual-cased\",\n",
            "  \"architectures\": [\n",
            "    \"BertForMaskedLM\"\n",
            "  ],\n",
            "  \"attention_probs_dropout_prob\": 0.1,\n",
            "  \"classifier_dropout\": null,\n",
            "  \"directionality\": \"bidi\",\n",
            "  \"hidden_act\": \"gelu\",\n",
            "  \"hidden_dropout_prob\": 0.1,\n",
            "  \"hidden_size\": 768,\n",
            "  \"initializer_range\": 0.02,\n",
            "  \"intermediate_size\": 3072,\n",
            "  \"layer_norm_eps\": 1e-12,\n",
            "  \"max_position_embeddings\": 512,\n",
            "  \"model_type\": \"bert\",\n",
            "  \"num_attention_heads\": 12,\n",
            "  \"num_hidden_layers\": 12,\n",
            "  \"pad_token_id\": 0,\n",
            "  \"pooler_fc_size\": 768,\n",
            "  \"pooler_num_attention_heads\": 12,\n",
            "  \"pooler_num_fc_layers\": 3,\n",
            "  \"pooler_size_per_head\": 128,\n",
            "  \"pooler_type\": \"first_token_transform\",\n",
            "  \"position_embedding_type\": \"absolute\",\n",
            "  \"transformers_version\": \"4.24.0\",\n",
            "  \"type_vocab_size\": 2,\n",
            "  \"use_cache\": true,\n",
            "  \"vocab_size\": 119547\n",
            "}\n",
            "\n",
            "/usr/local/lib/python3.7/dist-packages/transformers/optimization.py:310: FutureWarning: This implementation of AdamW is deprecated and will be removed in a future version. Use the PyTorch implementation torch.optim.AdamW instead, or set `no_deprecation_warning=True` to disable this warning\n",
            "  FutureWarning,\n"
          ]
        },
        {
          "name": "stdout",
          "output_type": "stream",
          "text": [
            "Resuming from previous episode: 44, best_accuracy: 0.4021017699115044\n"
          ]
        },
        {
          "name": "stderr",
          "output_type": "stream",
          "text": [
            "706it [08:21,  1.41it/s]\n"
          ]
        },
        {
          "name": "stdout",
          "output_type": "stream",
          "text": [
            "Training result 44/400 || loss : 1.103 acc : 0.407 \n"
          ]
        },
        {
          "name": "stderr",
          "output_type": "stream",
          "text": [
            "170it [00:41,  4.05it/s]\n"
          ]
        },
        {
          "name": "stdout",
          "output_type": "stream",
          "text": [
            "Validation result 44/400 || loss : 1.089 acc : 0.401 \n"
          ]
        },
        {
          "name": "stderr",
          "output_type": "stream",
          "text": [
            "706it [08:18,  1.42it/s]\n"
          ]
        },
        {
          "name": "stdout",
          "output_type": "stream",
          "text": [
            "Training result 45/400 || loss : 1.100 acc : 0.408 \n"
          ]
        },
        {
          "name": "stderr",
          "output_type": "stream",
          "text": [
            "170it [00:41,  4.08it/s]\n"
          ]
        },
        {
          "name": "stdout",
          "output_type": "stream",
          "text": [
            "Validation result 45/400 || loss : 1.088 acc : 0.404 \n"
          ]
        },
        {
          "name": "stderr",
          "output_type": "stream",
          "text": [
            "706it [08:19,  1.41it/s]\n"
          ]
        },
        {
          "name": "stdout",
          "output_type": "stream",
          "text": [
            "Training result 46/400 || loss : 1.099 acc : 0.407 \n"
          ]
        },
        {
          "name": "stderr",
          "output_type": "stream",
          "text": [
            "170it [00:41,  4.10it/s]\n"
          ]
        },
        {
          "name": "stdout",
          "output_type": "stream",
          "text": [
            "Validation result 46/400 || loss : 1.087 acc : 0.403 \n"
          ]
        },
        {
          "name": "stderr",
          "output_type": "stream",
          "text": [
            "706it [08:18,  1.42it/s]\n"
          ]
        },
        {
          "name": "stdout",
          "output_type": "stream",
          "text": [
            "Training result 47/400 || loss : 1.101 acc : 0.405 \n"
          ]
        },
        {
          "name": "stderr",
          "output_type": "stream",
          "text": [
            "170it [00:41,  4.07it/s]\n"
          ]
        },
        {
          "name": "stdout",
          "output_type": "stream",
          "text": [
            "Validation result 47/400 || loss : 1.088 acc : 0.406 \n"
          ]
        },
        {
          "name": "stderr",
          "output_type": "stream",
          "text": [
            "706it [08:19,  1.41it/s]\n"
          ]
        },
        {
          "name": "stdout",
          "output_type": "stream",
          "text": [
            "Training result 48/400 || loss : 1.103 acc : 0.410 \n"
          ]
        },
        {
          "name": "stderr",
          "output_type": "stream",
          "text": [
            "170it [00:41,  4.07it/s]\n"
          ]
        },
        {
          "name": "stdout",
          "output_type": "stream",
          "text": [
            "Validation result 48/400 || loss : 1.087 acc : 0.404 \n"
          ]
        },
        {
          "name": "stderr",
          "output_type": "stream",
          "text": [
            "706it [08:18,  1.42it/s]\n"
          ]
        },
        {
          "name": "stdout",
          "output_type": "stream",
          "text": [
            "Training result 49/400 || loss : 1.102 acc : 0.407 \n"
          ]
        },
        {
          "name": "stderr",
          "output_type": "stream",
          "text": [
            "170it [00:41,  4.09it/s]\n"
          ]
        },
        {
          "name": "stdout",
          "output_type": "stream",
          "text": [
            "Validation result 49/400 || loss : 1.088 acc : 0.404 \n"
          ]
        },
        {
          "name": "stderr",
          "output_type": "stream",
          "text": [
            "706it [08:18,  1.42it/s]\n"
          ]
        },
        {
          "name": "stdout",
          "output_type": "stream",
          "text": [
            "Training result 50/400 || loss : 1.103 acc : 0.404 \n"
          ]
        },
        {
          "name": "stderr",
          "output_type": "stream",
          "text": [
            "170it [00:41,  4.09it/s]\n"
          ]
        },
        {
          "name": "stdout",
          "output_type": "stream",
          "text": [
            "Validation result 50/400 || loss : 1.088 acc : 0.403 \n"
          ]
        },
        {
          "name": "stderr",
          "output_type": "stream",
          "text": [
            "706it [08:18,  1.42it/s]\n"
          ]
        },
        {
          "name": "stdout",
          "output_type": "stream",
          "text": [
            "Training result 51/400 || loss : 1.101 acc : 0.412 \n"
          ]
        },
        {
          "name": "stderr",
          "output_type": "stream",
          "text": [
            "170it [00:41,  4.06it/s]\n"
          ]
        },
        {
          "name": "stdout",
          "output_type": "stream",
          "text": [
            "Validation result 51/400 || loss : 1.088 acc : 0.401 \n"
          ]
        },
        {
          "name": "stderr",
          "output_type": "stream",
          "text": [
            "706it [08:18,  1.42it/s]\n"
          ]
        },
        {
          "name": "stdout",
          "output_type": "stream",
          "text": [
            "Training result 52/400 || loss : 1.100 acc : 0.408 \n"
          ]
        },
        {
          "name": "stderr",
          "output_type": "stream",
          "text": [
            "170it [00:41,  4.10it/s]\n"
          ]
        },
        {
          "name": "stdout",
          "output_type": "stream",
          "text": [
            "Validation result 52/400 || loss : 1.087 acc : 0.408 \n"
          ]
        },
        {
          "name": "stderr",
          "output_type": "stream",
          "text": [
            "706it [08:18,  1.42it/s]\n"
          ]
        },
        {
          "name": "stdout",
          "output_type": "stream",
          "text": [
            "Training result 53/400 || loss : 1.100 acc : 0.409 \n"
          ]
        },
        {
          "name": "stderr",
          "output_type": "stream",
          "text": [
            "170it [00:41,  4.09it/s]\n"
          ]
        },
        {
          "name": "stdout",
          "output_type": "stream",
          "text": [
            "Validation result 53/400 || loss : 1.088 acc : 0.407 \n"
          ]
        },
        {
          "name": "stderr",
          "output_type": "stream",
          "text": [
            "706it [08:18,  1.42it/s]\n"
          ]
        },
        {
          "name": "stdout",
          "output_type": "stream",
          "text": [
            "Training result 54/400 || loss : 1.102 acc : 0.410 \n"
          ]
        },
        {
          "name": "stderr",
          "output_type": "stream",
          "text": [
            "170it [00:41,  4.08it/s]\n"
          ]
        },
        {
          "name": "stdout",
          "output_type": "stream",
          "text": [
            "Validation result 54/400 || loss : 1.088 acc : 0.403 \n"
          ]
        },
        {
          "name": "stderr",
          "output_type": "stream",
          "text": [
            "706it [08:18,  1.42it/s]\n"
          ]
        },
        {
          "name": "stdout",
          "output_type": "stream",
          "text": [
            "Training result 55/400 || loss : 1.100 acc : 0.408 \n"
          ]
        },
        {
          "name": "stderr",
          "output_type": "stream",
          "text": [
            "170it [00:41,  4.09it/s]\n"
          ]
        },
        {
          "name": "stdout",
          "output_type": "stream",
          "text": [
            "Validation result 55/400 || loss : 1.087 acc : 0.404 \n"
          ]
        },
        {
          "name": "stderr",
          "output_type": "stream",
          "text": [
            "706it [08:18,  1.42it/s]\n"
          ]
        },
        {
          "name": "stdout",
          "output_type": "stream",
          "text": [
            "Training result 56/400 || loss : 1.098 acc : 0.411 \n"
          ]
        },
        {
          "name": "stderr",
          "output_type": "stream",
          "text": [
            "170it [00:41,  4.05it/s]\n"
          ]
        },
        {
          "name": "stdout",
          "output_type": "stream",
          "text": [
            "Validation result 56/400 || loss : 1.087 acc : 0.402 \n"
          ]
        },
        {
          "name": "stderr",
          "output_type": "stream",
          "text": [
            "706it [08:18,  1.42it/s]\n"
          ]
        },
        {
          "name": "stdout",
          "output_type": "stream",
          "text": [
            "Training result 57/400 || loss : 1.098 acc : 0.409 \n"
          ]
        },
        {
          "name": "stderr",
          "output_type": "stream",
          "text": [
            "170it [00:41,  4.07it/s]\n"
          ]
        },
        {
          "name": "stdout",
          "output_type": "stream",
          "text": [
            "Validation result 57/400 || loss : 1.086 acc : 0.407 \n"
          ]
        },
        {
          "name": "stderr",
          "output_type": "stream",
          "text": [
            "706it [08:18,  1.42it/s]\n"
          ]
        },
        {
          "name": "stdout",
          "output_type": "stream",
          "text": [
            "Training result 58/400 || loss : 1.099 acc : 0.407 \n"
          ]
        },
        {
          "name": "stderr",
          "output_type": "stream",
          "text": [
            "170it [00:41,  4.08it/s]\n"
          ]
        },
        {
          "name": "stdout",
          "output_type": "stream",
          "text": [
            "Validation result 58/400 || loss : 1.085 acc : 0.409 \n"
          ]
        },
        {
          "name": "stderr",
          "output_type": "stream",
          "text": [
            "706it [08:18,  1.42it/s]\n"
          ]
        },
        {
          "name": "stdout",
          "output_type": "stream",
          "text": [
            "Training result 59/400 || loss : 1.097 acc : 0.414 \n"
          ]
        },
        {
          "name": "stderr",
          "output_type": "stream",
          "text": [
            "170it [00:41,  4.08it/s]\n"
          ]
        },
        {
          "name": "stdout",
          "output_type": "stream",
          "text": [
            "Validation result 59/400 || loss : 1.084 acc : 0.406 \n"
          ]
        },
        {
          "name": "stderr",
          "output_type": "stream",
          "text": [
            "706it [08:18,  1.42it/s]\n"
          ]
        },
        {
          "name": "stdout",
          "output_type": "stream",
          "text": [
            "Training result 60/400 || loss : 1.096 acc : 0.413 \n"
          ]
        },
        {
          "name": "stderr",
          "output_type": "stream",
          "text": [
            "170it [00:41,  4.09it/s]\n"
          ]
        },
        {
          "name": "stdout",
          "output_type": "stream",
          "text": [
            "Validation result 60/400 || loss : 1.084 acc : 0.409 \n"
          ]
        },
        {
          "name": "stderr",
          "output_type": "stream",
          "text": [
            "706it [08:18,  1.42it/s]\n"
          ]
        },
        {
          "name": "stdout",
          "output_type": "stream",
          "text": [
            "Training result 61/400 || loss : 1.093 acc : 0.418 \n"
          ]
        },
        {
          "name": "stderr",
          "output_type": "stream",
          "text": [
            "170it [00:41,  4.10it/s]\n"
          ]
        },
        {
          "name": "stdout",
          "output_type": "stream",
          "text": [
            "Validation result 61/400 || loss : 1.084 acc : 0.410 \n"
          ]
        },
        {
          "name": "stderr",
          "output_type": "stream",
          "text": [
            "706it [08:18,  1.42it/s]\n"
          ]
        },
        {
          "name": "stdout",
          "output_type": "stream",
          "text": [
            "Training result 62/400 || loss : 1.095 acc : 0.415 \n"
          ]
        },
        {
          "name": "stderr",
          "output_type": "stream",
          "text": [
            "170it [00:41,  4.08it/s]\n"
          ]
        },
        {
          "name": "stdout",
          "output_type": "stream",
          "text": [
            "Validation result 62/400 || loss : 1.084 acc : 0.410 \n"
          ]
        },
        {
          "name": "stderr",
          "output_type": "stream",
          "text": [
            "706it [08:18,  1.42it/s]\n"
          ]
        },
        {
          "name": "stdout",
          "output_type": "stream",
          "text": [
            "Training result 63/400 || loss : 1.091 acc : 0.417 \n"
          ]
        },
        {
          "name": "stderr",
          "output_type": "stream",
          "text": [
            "170it [00:41,  4.08it/s]\n"
          ]
        },
        {
          "name": "stdout",
          "output_type": "stream",
          "text": [
            "Validation result 63/400 || loss : 1.083 acc : 0.412 \n"
          ]
        },
        {
          "name": "stderr",
          "output_type": "stream",
          "text": [
            "706it [08:18,  1.42it/s]\n"
          ]
        },
        {
          "name": "stdout",
          "output_type": "stream",
          "text": [
            "Training result 64/400 || loss : 1.093 acc : 0.418 \n"
          ]
        },
        {
          "name": "stderr",
          "output_type": "stream",
          "text": [
            "170it [00:41,  4.08it/s]\n"
          ]
        },
        {
          "name": "stdout",
          "output_type": "stream",
          "text": [
            "Validation result 64/400 || loss : 1.081 acc : 0.412 \n"
          ]
        },
        {
          "name": "stderr",
          "output_type": "stream",
          "text": [
            "706it [08:18,  1.42it/s]\n"
          ]
        },
        {
          "name": "stdout",
          "output_type": "stream",
          "text": [
            "Training result 65/400 || loss : 1.093 acc : 0.418 \n"
          ]
        },
        {
          "name": "stderr",
          "output_type": "stream",
          "text": [
            "170it [00:41,  4.11it/s]\n"
          ]
        },
        {
          "name": "stdout",
          "output_type": "stream",
          "text": [
            "Validation result 65/400 || loss : 1.082 acc : 0.411 \n"
          ]
        },
        {
          "name": "stderr",
          "output_type": "stream",
          "text": [
            "706it [08:18,  1.42it/s]\n"
          ]
        },
        {
          "name": "stdout",
          "output_type": "stream",
          "text": [
            "Training result 66/400 || loss : 1.091 acc : 0.419 \n"
          ]
        },
        {
          "name": "stderr",
          "output_type": "stream",
          "text": [
            "170it [00:41,  4.10it/s]\n"
          ]
        },
        {
          "name": "stdout",
          "output_type": "stream",
          "text": [
            "Validation result 66/400 || loss : 1.081 acc : 0.413 \n"
          ]
        },
        {
          "name": "stderr",
          "output_type": "stream",
          "text": [
            "706it [08:18,  1.42it/s]\n"
          ]
        },
        {
          "name": "stdout",
          "output_type": "stream",
          "text": [
            "Training result 67/400 || loss : 1.091 acc : 0.419 \n"
          ]
        },
        {
          "name": "stderr",
          "output_type": "stream",
          "text": [
            "170it [00:41,  4.08it/s]\n"
          ]
        },
        {
          "name": "stdout",
          "output_type": "stream",
          "text": [
            "Validation result 67/400 || loss : 1.081 acc : 0.416 \n"
          ]
        },
        {
          "name": "stderr",
          "output_type": "stream",
          "text": [
            "706it [08:18,  1.42it/s]\n"
          ]
        },
        {
          "name": "stdout",
          "output_type": "stream",
          "text": [
            "Training result 68/400 || loss : 1.087 acc : 0.426 \n"
          ]
        },
        {
          "name": "stderr",
          "output_type": "stream",
          "text": [
            "170it [00:41,  4.10it/s]\n"
          ]
        },
        {
          "name": "stdout",
          "output_type": "stream",
          "text": [
            "Validation result 68/400 || loss : 1.079 acc : 0.417 \n"
          ]
        },
        {
          "name": "stderr",
          "output_type": "stream",
          "text": [
            "706it [08:18,  1.42it/s]\n"
          ]
        },
        {
          "name": "stdout",
          "output_type": "stream",
          "text": [
            "Training result 69/400 || loss : 1.090 acc : 0.420 \n"
          ]
        },
        {
          "name": "stderr",
          "output_type": "stream",
          "text": [
            "170it [00:41,  4.09it/s]\n"
          ]
        },
        {
          "name": "stdout",
          "output_type": "stream",
          "text": [
            "Validation result 69/400 || loss : 1.078 acc : 0.420 \n"
          ]
        },
        {
          "name": "stderr",
          "output_type": "stream",
          "text": [
            "706it [08:19,  1.41it/s]\n"
          ]
        },
        {
          "name": "stdout",
          "output_type": "stream",
          "text": [
            "Training result 70/400 || loss : 1.087 acc : 0.423 \n"
          ]
        },
        {
          "name": "stderr",
          "output_type": "stream",
          "text": [
            "170it [00:41,  4.08it/s]\n"
          ]
        },
        {
          "name": "stdout",
          "output_type": "stream",
          "text": [
            "Validation result 70/400 || loss : 1.079 acc : 0.419 \n"
          ]
        },
        {
          "name": "stderr",
          "output_type": "stream",
          "text": [
            "706it [08:18,  1.42it/s]\n"
          ]
        },
        {
          "name": "stdout",
          "output_type": "stream",
          "text": [
            "Training result 71/400 || loss : 1.086 acc : 0.427 \n"
          ]
        },
        {
          "name": "stderr",
          "output_type": "stream",
          "text": [
            "170it [00:41,  4.11it/s]\n"
          ]
        },
        {
          "name": "stdout",
          "output_type": "stream",
          "text": [
            "Validation result 71/400 || loss : 1.078 acc : 0.419 \n"
          ]
        },
        {
          "name": "stderr",
          "output_type": "stream",
          "text": [
            "706it [08:18,  1.41it/s]\n"
          ]
        },
        {
          "name": "stdout",
          "output_type": "stream",
          "text": [
            "Training result 72/400 || loss : 1.084 acc : 0.431 \n"
          ]
        },
        {
          "name": "stderr",
          "output_type": "stream",
          "text": [
            "170it [00:41,  4.08it/s]\n"
          ]
        },
        {
          "name": "stdout",
          "output_type": "stream",
          "text": [
            "Validation result 72/400 || loss : 1.076 acc : 0.424 \n"
          ]
        },
        {
          "name": "stderr",
          "output_type": "stream",
          "text": [
            "706it [08:19,  1.41it/s]\n"
          ]
        },
        {
          "name": "stdout",
          "output_type": "stream",
          "text": [
            "Training result 73/400 || loss : 1.082 acc : 0.431 \n"
          ]
        },
        {
          "name": "stderr",
          "output_type": "stream",
          "text": [
            "170it [00:41,  4.08it/s]\n"
          ]
        },
        {
          "name": "stdout",
          "output_type": "stream",
          "text": [
            "Validation result 73/400 || loss : 1.078 acc : 0.424 \n"
          ]
        },
        {
          "name": "stderr",
          "output_type": "stream",
          "text": [
            "706it [08:18,  1.42it/s]\n"
          ]
        },
        {
          "name": "stdout",
          "output_type": "stream",
          "text": [
            "Training result 74/400 || loss : 1.080 acc : 0.436 \n"
          ]
        },
        {
          "name": "stderr",
          "output_type": "stream",
          "text": [
            "170it [00:41,  4.10it/s]\n"
          ]
        },
        {
          "name": "stdout",
          "output_type": "stream",
          "text": [
            "Validation result 74/400 || loss : 1.075 acc : 0.422 \n"
          ]
        },
        {
          "name": "stderr",
          "output_type": "stream",
          "text": [
            "706it [08:18,  1.42it/s]\n"
          ]
        },
        {
          "name": "stdout",
          "output_type": "stream",
          "text": [
            "Training result 75/400 || loss : 1.079 acc : 0.435 \n"
          ]
        },
        {
          "name": "stderr",
          "output_type": "stream",
          "text": [
            "170it [00:41,  4.10it/s]\n"
          ]
        },
        {
          "name": "stdout",
          "output_type": "stream",
          "text": [
            "Validation result 75/400 || loss : 1.073 acc : 0.425 \n"
          ]
        },
        {
          "name": "stderr",
          "output_type": "stream",
          "text": [
            "706it [08:18,  1.42it/s]\n"
          ]
        },
        {
          "name": "stdout",
          "output_type": "stream",
          "text": [
            "Training result 76/400 || loss : 1.078 acc : 0.432 \n"
          ]
        },
        {
          "name": "stderr",
          "output_type": "stream",
          "text": [
            "170it [00:41,  4.09it/s]\n"
          ]
        },
        {
          "name": "stdout",
          "output_type": "stream",
          "text": [
            "Validation result 76/400 || loss : 1.074 acc : 0.426 \n"
          ]
        },
        {
          "name": "stderr",
          "output_type": "stream",
          "text": [
            "706it [08:18,  1.42it/s]\n"
          ]
        },
        {
          "name": "stdout",
          "output_type": "stream",
          "text": [
            "Training result 77/400 || loss : 1.076 acc : 0.436 \n"
          ]
        },
        {
          "name": "stderr",
          "output_type": "stream",
          "text": [
            "170it [00:41,  4.08it/s]\n"
          ]
        },
        {
          "name": "stdout",
          "output_type": "stream",
          "text": [
            "Validation result 77/400 || loss : 1.071 acc : 0.429 \n"
          ]
        },
        {
          "name": "stderr",
          "output_type": "stream",
          "text": [
            "706it [08:18,  1.42it/s]\n"
          ]
        },
        {
          "name": "stdout",
          "output_type": "stream",
          "text": [
            "Training result 78/400 || loss : 1.073 acc : 0.440 \n"
          ]
        },
        {
          "name": "stderr",
          "output_type": "stream",
          "text": [
            "170it [00:41,  4.08it/s]\n"
          ]
        },
        {
          "name": "stdout",
          "output_type": "stream",
          "text": [
            "Validation result 78/400 || loss : 1.070 acc : 0.430 \n"
          ]
        },
        {
          "name": "stderr",
          "output_type": "stream",
          "text": [
            "706it [08:18,  1.42it/s]\n"
          ]
        },
        {
          "name": "stdout",
          "output_type": "stream",
          "text": [
            "Training result 79/400 || loss : 1.072 acc : 0.440 \n"
          ]
        },
        {
          "name": "stderr",
          "output_type": "stream",
          "text": [
            "170it [00:41,  4.10it/s]\n"
          ]
        },
        {
          "name": "stdout",
          "output_type": "stream",
          "text": [
            "Validation result 79/400 || loss : 1.069 acc : 0.431 \n"
          ]
        },
        {
          "name": "stderr",
          "output_type": "stream",
          "text": [
            "238it [02:48,  1.42it/s]"
          ]
        }
      ],
      "source": [
        "types = ['bert-base-uncased', 'bert-large-uncased', \"xlm-roberta-base\", 'bert-base-multilingual-cased', 'albert-base-v2']\n",
        "model = BERTNLIModel(bert_type='bert-base-multilingual-cased', label_num=3, max_length=128).cuda()\n",
        "\n",
        "optimizer = AdamW(model.parameters(),lr=2e-5,eps=1e-6,correct_bias=False)\n",
        "criterion = nn.CrossEntropyLoss()\n",
        "\n",
        "warmup_percent = 0.2\n",
        "total_steps = math.ceil(args.epoch*len(klue_nli['train'])*1./args.batch_size)\n",
        "warmup_steps = int(total_steps*0.2)\n",
        "scheduler = get_scheduler(optimizer, 'WarmupLinear', warmup_steps=warmup_steps, t_total=total_steps)\n",
        "\n",
        "start_time = time.time()\n",
        "best_accuracy, training_loss, training_accuracy, validation_loss, validation_accuracy = train(model=model, optimizer=optimizer, scheduler=scheduler, criterion=criterion, model_type=types[3], method=method)\n",
        "duration = time.time() - start_time\n",
        "print(f'\\n\\n\\n Best accuracy : {best_accuracy:.3f} took {duration:.3f} secs')"
      ]
    },
    {
      "cell_type": "markdown",
      "metadata": {
        "id": "eAg7QgsL2bly"
      },
      "source": [
        "## **Report**\n",
        "<strong>\n",
        "<ol>\n",
        "  <li>Task 1</li>\n",
        "  <ul>\n",
        "    <li>Best accuracy = 0.673, Epoch = 124</li>\n",
        "    <li>Training can always be resumed</li>\n",
        "  </ul>\n",
        "</ol>\n",
        "</strong>"
      ]
    },
    {
      "cell_type": "code",
      "source": [],
      "metadata": {
        "id": "OZpNaP6v-Dfo"
      },
      "execution_count": null,
      "outputs": []
    }
  ],
  "metadata": {
    "accelerator": "GPU",
    "colab": {
      "machine_shape": "hm",
      "provenance": [],
      "include_colab_link": true
    },
    "gpuClass": "premium",
    "kernelspec": {
      "display_name": "Python 3",
      "name": "python3"
    },
    "language_info": {
      "name": "python"
    },
    "widgets": {
      "application/vnd.jupyter.widget-state+json": {
        "00783b83a27444948ee67bf46aef3d0c": {
          "model_module": "@jupyter-widgets/base",
          "model_module_version": "1.2.0",
          "model_name": "LayoutModel",
          "state": {
            "_model_module": "@jupyter-widgets/base",
            "_model_module_version": "1.2.0",
            "_model_name": "LayoutModel",
            "_view_count": null,
            "_view_module": "@jupyter-widgets/base",
            "_view_module_version": "1.2.0",
            "_view_name": "LayoutView",
            "align_content": null,
            "align_items": null,
            "align_self": null,
            "border": null,
            "bottom": null,
            "display": null,
            "flex": null,
            "flex_flow": null,
            "grid_area": null,
            "grid_auto_columns": null,
            "grid_auto_flow": null,
            "grid_auto_rows": null,
            "grid_column": null,
            "grid_gap": null,
            "grid_row": null,
            "grid_template_areas": null,
            "grid_template_columns": null,
            "grid_template_rows": null,
            "height": null,
            "justify_content": null,
            "justify_items": null,
            "left": null,
            "margin": null,
            "max_height": null,
            "max_width": null,
            "min_height": null,
            "min_width": null,
            "object_fit": null,
            "object_position": null,
            "order": null,
            "overflow": null,
            "overflow_x": null,
            "overflow_y": null,
            "padding": null,
            "right": null,
            "top": null,
            "visibility": "hidden",
            "width": null
          }
        },
        "03113ae0eccc466fa8c2c1267c5605f8": {
          "model_module": "@jupyter-widgets/controls",
          "model_module_version": "1.5.0",
          "model_name": "DescriptionStyleModel",
          "state": {
            "_model_module": "@jupyter-widgets/controls",
            "_model_module_version": "1.5.0",
            "_model_name": "DescriptionStyleModel",
            "_view_count": null,
            "_view_module": "@jupyter-widgets/base",
            "_view_module_version": "1.2.0",
            "_view_name": "StyleView",
            "description_width": ""
          }
        },
        "03de7b6f3ae94dcd94ce7bc02fc880b4": {
          "model_module": "@jupyter-widgets/base",
          "model_module_version": "1.2.0",
          "model_name": "LayoutModel",
          "state": {
            "_model_module": "@jupyter-widgets/base",
            "_model_module_version": "1.2.0",
            "_model_name": "LayoutModel",
            "_view_count": null,
            "_view_module": "@jupyter-widgets/base",
            "_view_module_version": "1.2.0",
            "_view_name": "LayoutView",
            "align_content": null,
            "align_items": null,
            "align_self": null,
            "border": null,
            "bottom": null,
            "display": null,
            "flex": null,
            "flex_flow": null,
            "grid_area": null,
            "grid_auto_columns": null,
            "grid_auto_flow": null,
            "grid_auto_rows": null,
            "grid_column": null,
            "grid_gap": null,
            "grid_row": null,
            "grid_template_areas": null,
            "grid_template_columns": null,
            "grid_template_rows": null,
            "height": null,
            "justify_content": null,
            "justify_items": null,
            "left": null,
            "margin": null,
            "max_height": null,
            "max_width": null,
            "min_height": null,
            "min_width": null,
            "object_fit": null,
            "object_position": null,
            "order": null,
            "overflow": null,
            "overflow_x": null,
            "overflow_y": null,
            "padding": null,
            "right": null,
            "top": null,
            "visibility": null,
            "width": null
          }
        },
        "04874c17391f4b1aa4eb1f68274f3423": {
          "model_module": "@jupyter-widgets/controls",
          "model_module_version": "1.5.0",
          "model_name": "HTMLModel",
          "state": {
            "_dom_classes": [],
            "_model_module": "@jupyter-widgets/controls",
            "_model_module_version": "1.5.0",
            "_model_name": "HTMLModel",
            "_view_count": null,
            "_view_module": "@jupyter-widgets/controls",
            "_view_module_version": "1.5.0",
            "_view_name": "HTMLView",
            "description": "",
            "description_tooltip": null,
            "layout": "IPY_MODEL_46109e0ab366410bb4c5990f2b02c0f5",
            "placeholder": "​",
            "style": "IPY_MODEL_3ec2d005d7c449bdae4c56d9ad497daa",
            "value": "Downloading builder script: 100%"
          }
        },
        "08e32bc97c3b47b9a727f26f402224ae": {
          "model_module": "@jupyter-widgets/controls",
          "model_module_version": "1.5.0",
          "model_name": "DescriptionStyleModel",
          "state": {
            "_model_module": "@jupyter-widgets/controls",
            "_model_module_version": "1.5.0",
            "_model_name": "DescriptionStyleModel",
            "_view_count": null,
            "_view_module": "@jupyter-widgets/base",
            "_view_module_version": "1.2.0",
            "_view_name": "StyleView",
            "description_width": ""
          }
        },
        "09b5c15afe694598a97fab841249abb5": {
          "model_module": "@jupyter-widgets/base",
          "model_module_version": "1.2.0",
          "model_name": "LayoutModel",
          "state": {
            "_model_module": "@jupyter-widgets/base",
            "_model_module_version": "1.2.0",
            "_model_name": "LayoutModel",
            "_view_count": null,
            "_view_module": "@jupyter-widgets/base",
            "_view_module_version": "1.2.0",
            "_view_name": "LayoutView",
            "align_content": null,
            "align_items": null,
            "align_self": null,
            "border": null,
            "bottom": null,
            "display": null,
            "flex": null,
            "flex_flow": null,
            "grid_area": null,
            "grid_auto_columns": null,
            "grid_auto_flow": null,
            "grid_auto_rows": null,
            "grid_column": null,
            "grid_gap": null,
            "grid_row": null,
            "grid_template_areas": null,
            "grid_template_columns": null,
            "grid_template_rows": null,
            "height": null,
            "justify_content": null,
            "justify_items": null,
            "left": null,
            "margin": null,
            "max_height": null,
            "max_width": null,
            "min_height": null,
            "min_width": null,
            "object_fit": null,
            "object_position": null,
            "order": null,
            "overflow": null,
            "overflow_x": null,
            "overflow_y": null,
            "padding": null,
            "right": null,
            "top": null,
            "visibility": null,
            "width": null
          }
        },
        "0b4408036de04b84b30c0c0d808bbb66": {
          "model_module": "@jupyter-widgets/controls",
          "model_module_version": "1.5.0",
          "model_name": "DescriptionStyleModel",
          "state": {
            "_model_module": "@jupyter-widgets/controls",
            "_model_module_version": "1.5.0",
            "_model_name": "DescriptionStyleModel",
            "_view_count": null,
            "_view_module": "@jupyter-widgets/base",
            "_view_module_version": "1.2.0",
            "_view_name": "StyleView",
            "description_width": ""
          }
        },
        "0dcc4ab2711949b6a0ea9a95e35551a9": {
          "model_module": "@jupyter-widgets/controls",
          "model_module_version": "1.5.0",
          "model_name": "HBoxModel",
          "state": {
            "_dom_classes": [],
            "_model_module": "@jupyter-widgets/controls",
            "_model_module_version": "1.5.0",
            "_model_name": "HBoxModel",
            "_view_count": null,
            "_view_module": "@jupyter-widgets/controls",
            "_view_module_version": "1.5.0",
            "_view_name": "HBoxView",
            "box_style": "",
            "children": [
              "IPY_MODEL_9943858b762b40ca903a15ee62c57bd7",
              "IPY_MODEL_446959d43b104e5eac9bed7900b90925",
              "IPY_MODEL_3974d27bae8b4ce68b1f489249260309"
            ],
            "layout": "IPY_MODEL_19c6fad33b8b4101a762a4f65df38d16"
          }
        },
        "0e183ddde9ae4e26a109d01e31489693": {
          "model_module": "@jupyter-widgets/controls",
          "model_module_version": "1.5.0",
          "model_name": "DescriptionStyleModel",
          "state": {
            "_model_module": "@jupyter-widgets/controls",
            "_model_module_version": "1.5.0",
            "_model_name": "DescriptionStyleModel",
            "_view_count": null,
            "_view_module": "@jupyter-widgets/base",
            "_view_module_version": "1.2.0",
            "_view_name": "StyleView",
            "description_width": ""
          }
        },
        "0ef2e31d8c844daa961fe037d142374f": {
          "model_module": "@jupyter-widgets/controls",
          "model_module_version": "1.5.0",
          "model_name": "HTMLModel",
          "state": {
            "_dom_classes": [],
            "_model_module": "@jupyter-widgets/controls",
            "_model_module_version": "1.5.0",
            "_model_name": "HTMLModel",
            "_view_count": null,
            "_view_module": "@jupyter-widgets/controls",
            "_view_module_version": "1.5.0",
            "_view_name": "HTMLView",
            "description": "",
            "description_tooltip": null,
            "layout": "IPY_MODEL_2eaf239c1e6d4dc48a4f75ef766ff813",
            "placeholder": "​",
            "style": "IPY_MODEL_0b4408036de04b84b30c0c0d808bbb66",
            "value": "Generating validation split:  36%"
          }
        },
        "0f64448b78614bfd8dff82507a4257e7": {
          "model_module": "@jupyter-widgets/controls",
          "model_module_version": "1.5.0",
          "model_name": "ProgressStyleModel",
          "state": {
            "_model_module": "@jupyter-widgets/controls",
            "_model_module_version": "1.5.0",
            "_model_name": "ProgressStyleModel",
            "_view_count": null,
            "_view_module": "@jupyter-widgets/base",
            "_view_module_version": "1.2.0",
            "_view_name": "StyleView",
            "bar_color": null,
            "description_width": ""
          }
        },
        "119e396bb9794b729e899e67379de7b3": {
          "model_module": "@jupyter-widgets/controls",
          "model_module_version": "1.5.0",
          "model_name": "ProgressStyleModel",
          "state": {
            "_model_module": "@jupyter-widgets/controls",
            "_model_module_version": "1.5.0",
            "_model_name": "ProgressStyleModel",
            "_view_count": null,
            "_view_module": "@jupyter-widgets/base",
            "_view_module_version": "1.2.0",
            "_view_name": "StyleView",
            "bar_color": null,
            "description_width": ""
          }
        },
        "13abb53e5540452688c830796434eb1d": {
          "model_module": "@jupyter-widgets/controls",
          "model_module_version": "1.5.0",
          "model_name": "DescriptionStyleModel",
          "state": {
            "_model_module": "@jupyter-widgets/controls",
            "_model_module_version": "1.5.0",
            "_model_name": "DescriptionStyleModel",
            "_view_count": null,
            "_view_module": "@jupyter-widgets/base",
            "_view_module_version": "1.2.0",
            "_view_name": "StyleView",
            "description_width": ""
          }
        },
        "1431ae2235654db0a479f6b38fa13818": {
          "model_module": "@jupyter-widgets/base",
          "model_module_version": "1.2.0",
          "model_name": "LayoutModel",
          "state": {
            "_model_module": "@jupyter-widgets/base",
            "_model_module_version": "1.2.0",
            "_model_name": "LayoutModel",
            "_view_count": null,
            "_view_module": "@jupyter-widgets/base",
            "_view_module_version": "1.2.0",
            "_view_name": "LayoutView",
            "align_content": null,
            "align_items": null,
            "align_self": null,
            "border": null,
            "bottom": null,
            "display": null,
            "flex": null,
            "flex_flow": null,
            "grid_area": null,
            "grid_auto_columns": null,
            "grid_auto_flow": null,
            "grid_auto_rows": null,
            "grid_column": null,
            "grid_gap": null,
            "grid_row": null,
            "grid_template_areas": null,
            "grid_template_columns": null,
            "grid_template_rows": null,
            "height": null,
            "justify_content": null,
            "justify_items": null,
            "left": null,
            "margin": null,
            "max_height": null,
            "max_width": null,
            "min_height": null,
            "min_width": null,
            "object_fit": null,
            "object_position": null,
            "order": null,
            "overflow": null,
            "overflow_x": null,
            "overflow_y": null,
            "padding": null,
            "right": null,
            "top": null,
            "visibility": null,
            "width": null
          }
        },
        "1435b179a1ac4904a9e3506ed0d316c3": {
          "model_module": "@jupyter-widgets/controls",
          "model_module_version": "1.5.0",
          "model_name": "FloatProgressModel",
          "state": {
            "_dom_classes": [],
            "_model_module": "@jupyter-widgets/controls",
            "_model_module_version": "1.5.0",
            "_model_name": "FloatProgressModel",
            "_view_count": null,
            "_view_module": "@jupyter-widgets/controls",
            "_view_module_version": "1.5.0",
            "_view_name": "ProgressView",
            "bar_style": "success",
            "description": "",
            "description_tooltip": null,
            "layout": "IPY_MODEL_c19658b019644157b3949191d1df2f51",
            "max": 29,
            "min": 0,
            "orientation": "horizontal",
            "style": "IPY_MODEL_a6a007014d184148ae6dde801bb4abc3",
            "value": 29
          }
        },
        "15bbc2d4c656470484e0bb988fae38b4": {
          "model_module": "@jupyter-widgets/base",
          "model_module_version": "1.2.0",
          "model_name": "LayoutModel",
          "state": {
            "_model_module": "@jupyter-widgets/base",
            "_model_module_version": "1.2.0",
            "_model_name": "LayoutModel",
            "_view_count": null,
            "_view_module": "@jupyter-widgets/base",
            "_view_module_version": "1.2.0",
            "_view_name": "LayoutView",
            "align_content": null,
            "align_items": null,
            "align_self": null,
            "border": null,
            "bottom": null,
            "display": null,
            "flex": null,
            "flex_flow": null,
            "grid_area": null,
            "grid_auto_columns": null,
            "grid_auto_flow": null,
            "grid_auto_rows": null,
            "grid_column": null,
            "grid_gap": null,
            "grid_row": null,
            "grid_template_areas": null,
            "grid_template_columns": null,
            "grid_template_rows": null,
            "height": null,
            "justify_content": null,
            "justify_items": null,
            "left": null,
            "margin": null,
            "max_height": null,
            "max_width": null,
            "min_height": null,
            "min_width": null,
            "object_fit": null,
            "object_position": null,
            "order": null,
            "overflow": null,
            "overflow_x": null,
            "overflow_y": null,
            "padding": null,
            "right": null,
            "top": null,
            "visibility": null,
            "width": null
          }
        },
        "162a6073bc644b9d82740e6256bfa2e4": {
          "model_module": "@jupyter-widgets/controls",
          "model_module_version": "1.5.0",
          "model_name": "FloatProgressModel",
          "state": {
            "_dom_classes": [],
            "_model_module": "@jupyter-widgets/controls",
            "_model_module_version": "1.5.0",
            "_model_name": "FloatProgressModel",
            "_view_count": null,
            "_view_module": "@jupyter-widgets/controls",
            "_view_module_version": "1.5.0",
            "_view_name": "ProgressView",
            "bar_style": "success",
            "description": "",
            "description_tooltip": null,
            "layout": "IPY_MODEL_5014ff3ec29642d09b15eeb7459c9b53",
            "max": 23266,
            "min": 0,
            "orientation": "horizontal",
            "style": "IPY_MODEL_93648cbb398247c683f30dcb1c6190ce",
            "value": 23266
          }
        },
        "1672d0fc0ec44409bed2af72cfc1b870": {
          "model_module": "@jupyter-widgets/base",
          "model_module_version": "1.2.0",
          "model_name": "LayoutModel",
          "state": {
            "_model_module": "@jupyter-widgets/base",
            "_model_module_version": "1.2.0",
            "_model_name": "LayoutModel",
            "_view_count": null,
            "_view_module": "@jupyter-widgets/base",
            "_view_module_version": "1.2.0",
            "_view_name": "LayoutView",
            "align_content": null,
            "align_items": null,
            "align_self": null,
            "border": null,
            "bottom": null,
            "display": null,
            "flex": null,
            "flex_flow": null,
            "grid_area": null,
            "grid_auto_columns": null,
            "grid_auto_flow": null,
            "grid_auto_rows": null,
            "grid_column": null,
            "grid_gap": null,
            "grid_row": null,
            "grid_template_areas": null,
            "grid_template_columns": null,
            "grid_template_rows": null,
            "height": null,
            "justify_content": null,
            "justify_items": null,
            "left": null,
            "margin": null,
            "max_height": null,
            "max_width": null,
            "min_height": null,
            "min_width": null,
            "object_fit": null,
            "object_position": null,
            "order": null,
            "overflow": null,
            "overflow_x": null,
            "overflow_y": null,
            "padding": null,
            "right": null,
            "top": null,
            "visibility": null,
            "width": null
          }
        },
        "17ce895b921c4301b13ae8d75011aa2a": {
          "model_module": "@jupyter-widgets/base",
          "model_module_version": "1.2.0",
          "model_name": "LayoutModel",
          "state": {
            "_model_module": "@jupyter-widgets/base",
            "_model_module_version": "1.2.0",
            "_model_name": "LayoutModel",
            "_view_count": null,
            "_view_module": "@jupyter-widgets/base",
            "_view_module_version": "1.2.0",
            "_view_name": "LayoutView",
            "align_content": null,
            "align_items": null,
            "align_self": null,
            "border": null,
            "bottom": null,
            "display": null,
            "flex": null,
            "flex_flow": null,
            "grid_area": null,
            "grid_auto_columns": null,
            "grid_auto_flow": null,
            "grid_auto_rows": null,
            "grid_column": null,
            "grid_gap": null,
            "grid_row": null,
            "grid_template_areas": null,
            "grid_template_columns": null,
            "grid_template_rows": null,
            "height": null,
            "justify_content": null,
            "justify_items": null,
            "left": null,
            "margin": null,
            "max_height": null,
            "max_width": null,
            "min_height": null,
            "min_width": null,
            "object_fit": null,
            "object_position": null,
            "order": null,
            "overflow": null,
            "overflow_x": null,
            "overflow_y": null,
            "padding": null,
            "right": null,
            "top": null,
            "visibility": null,
            "width": null
          }
        },
        "180472b0049548af81003488ab77651b": {
          "model_module": "@jupyter-widgets/base",
          "model_module_version": "1.2.0",
          "model_name": "LayoutModel",
          "state": {
            "_model_module": "@jupyter-widgets/base",
            "_model_module_version": "1.2.0",
            "_model_name": "LayoutModel",
            "_view_count": null,
            "_view_module": "@jupyter-widgets/base",
            "_view_module_version": "1.2.0",
            "_view_name": "LayoutView",
            "align_content": null,
            "align_items": null,
            "align_self": null,
            "border": null,
            "bottom": null,
            "display": null,
            "flex": null,
            "flex_flow": null,
            "grid_area": null,
            "grid_auto_columns": null,
            "grid_auto_flow": null,
            "grid_auto_rows": null,
            "grid_column": null,
            "grid_gap": null,
            "grid_row": null,
            "grid_template_areas": null,
            "grid_template_columns": null,
            "grid_template_rows": null,
            "height": null,
            "justify_content": null,
            "justify_items": null,
            "left": null,
            "margin": null,
            "max_height": null,
            "max_width": null,
            "min_height": null,
            "min_width": null,
            "object_fit": null,
            "object_position": null,
            "order": null,
            "overflow": null,
            "overflow_x": null,
            "overflow_y": null,
            "padding": null,
            "right": null,
            "top": null,
            "visibility": null,
            "width": null
          }
        },
        "197453c847204633b622d4cf6c09f17e": {
          "model_module": "@jupyter-widgets/base",
          "model_module_version": "1.2.0",
          "model_name": "LayoutModel",
          "state": {
            "_model_module": "@jupyter-widgets/base",
            "_model_module_version": "1.2.0",
            "_model_name": "LayoutModel",
            "_view_count": null,
            "_view_module": "@jupyter-widgets/base",
            "_view_module_version": "1.2.0",
            "_view_name": "LayoutView",
            "align_content": null,
            "align_items": null,
            "align_self": null,
            "border": null,
            "bottom": null,
            "display": null,
            "flex": null,
            "flex_flow": null,
            "grid_area": null,
            "grid_auto_columns": null,
            "grid_auto_flow": null,
            "grid_auto_rows": null,
            "grid_column": null,
            "grid_gap": null,
            "grid_row": null,
            "grid_template_areas": null,
            "grid_template_columns": null,
            "grid_template_rows": null,
            "height": null,
            "justify_content": null,
            "justify_items": null,
            "left": null,
            "margin": null,
            "max_height": null,
            "max_width": null,
            "min_height": null,
            "min_width": null,
            "object_fit": null,
            "object_position": null,
            "order": null,
            "overflow": null,
            "overflow_x": null,
            "overflow_y": null,
            "padding": null,
            "right": null,
            "top": null,
            "visibility": null,
            "width": null
          }
        },
        "19c6fad33b8b4101a762a4f65df38d16": {
          "model_module": "@jupyter-widgets/base",
          "model_module_version": "1.2.0",
          "model_name": "LayoutModel",
          "state": {
            "_model_module": "@jupyter-widgets/base",
            "_model_module_version": "1.2.0",
            "_model_name": "LayoutModel",
            "_view_count": null,
            "_view_module": "@jupyter-widgets/base",
            "_view_module_version": "1.2.0",
            "_view_name": "LayoutView",
            "align_content": null,
            "align_items": null,
            "align_self": null,
            "border": null,
            "bottom": null,
            "display": null,
            "flex": null,
            "flex_flow": null,
            "grid_area": null,
            "grid_auto_columns": null,
            "grid_auto_flow": null,
            "grid_auto_rows": null,
            "grid_column": null,
            "grid_gap": null,
            "grid_row": null,
            "grid_template_areas": null,
            "grid_template_columns": null,
            "grid_template_rows": null,
            "height": null,
            "justify_content": null,
            "justify_items": null,
            "left": null,
            "margin": null,
            "max_height": null,
            "max_width": null,
            "min_height": null,
            "min_width": null,
            "object_fit": null,
            "object_position": null,
            "order": null,
            "overflow": null,
            "overflow_x": null,
            "overflow_y": null,
            "padding": null,
            "right": null,
            "top": null,
            "visibility": null,
            "width": null
          }
        },
        "2023eb57d3b842d4bf0a01b87ff5b27f": {
          "model_module": "@jupyter-widgets/base",
          "model_module_version": "1.2.0",
          "model_name": "LayoutModel",
          "state": {
            "_model_module": "@jupyter-widgets/base",
            "_model_module_version": "1.2.0",
            "_model_name": "LayoutModel",
            "_view_count": null,
            "_view_module": "@jupyter-widgets/base",
            "_view_module_version": "1.2.0",
            "_view_name": "LayoutView",
            "align_content": null,
            "align_items": null,
            "align_self": null,
            "border": null,
            "bottom": null,
            "display": null,
            "flex": null,
            "flex_flow": null,
            "grid_area": null,
            "grid_auto_columns": null,
            "grid_auto_flow": null,
            "grid_auto_rows": null,
            "grid_column": null,
            "grid_gap": null,
            "grid_row": null,
            "grid_template_areas": null,
            "grid_template_columns": null,
            "grid_template_rows": null,
            "height": null,
            "justify_content": null,
            "justify_items": null,
            "left": null,
            "margin": null,
            "max_height": null,
            "max_width": null,
            "min_height": null,
            "min_width": null,
            "object_fit": null,
            "object_position": null,
            "order": null,
            "overflow": null,
            "overflow_x": null,
            "overflow_y": null,
            "padding": null,
            "right": null,
            "top": null,
            "visibility": null,
            "width": null
          }
        },
        "20f805f611d944ecb99c56187ec8f9ef": {
          "model_module": "@jupyter-widgets/controls",
          "model_module_version": "1.5.0",
          "model_name": "ProgressStyleModel",
          "state": {
            "_model_module": "@jupyter-widgets/controls",
            "_model_module_version": "1.5.0",
            "_model_name": "ProgressStyleModel",
            "_view_count": null,
            "_view_module": "@jupyter-widgets/base",
            "_view_module_version": "1.2.0",
            "_view_name": "StyleView",
            "bar_color": null,
            "description_width": ""
          }
        },
        "221e565da161436bb0dd964f29b2148b": {
          "model_module": "@jupyter-widgets/base",
          "model_module_version": "1.2.0",
          "model_name": "LayoutModel",
          "state": {
            "_model_module": "@jupyter-widgets/base",
            "_model_module_version": "1.2.0",
            "_model_name": "LayoutModel",
            "_view_count": null,
            "_view_module": "@jupyter-widgets/base",
            "_view_module_version": "1.2.0",
            "_view_name": "LayoutView",
            "align_content": null,
            "align_items": null,
            "align_self": null,
            "border": null,
            "bottom": null,
            "display": null,
            "flex": null,
            "flex_flow": null,
            "grid_area": null,
            "grid_auto_columns": null,
            "grid_auto_flow": null,
            "grid_auto_rows": null,
            "grid_column": null,
            "grid_gap": null,
            "grid_row": null,
            "grid_template_areas": null,
            "grid_template_columns": null,
            "grid_template_rows": null,
            "height": null,
            "justify_content": null,
            "justify_items": null,
            "left": null,
            "margin": null,
            "max_height": null,
            "max_width": null,
            "min_height": null,
            "min_width": null,
            "object_fit": null,
            "object_position": null,
            "order": null,
            "overflow": null,
            "overflow_x": null,
            "overflow_y": null,
            "padding": null,
            "right": null,
            "top": null,
            "visibility": null,
            "width": null
          }
        },
        "2347c95caae8460c864c663b76e2b278": {
          "model_module": "@jupyter-widgets/base",
          "model_module_version": "1.2.0",
          "model_name": "LayoutModel",
          "state": {
            "_model_module": "@jupyter-widgets/base",
            "_model_module_version": "1.2.0",
            "_model_name": "LayoutModel",
            "_view_count": null,
            "_view_module": "@jupyter-widgets/base",
            "_view_module_version": "1.2.0",
            "_view_name": "LayoutView",
            "align_content": null,
            "align_items": null,
            "align_self": null,
            "border": null,
            "bottom": null,
            "display": null,
            "flex": null,
            "flex_flow": null,
            "grid_area": null,
            "grid_auto_columns": null,
            "grid_auto_flow": null,
            "grid_auto_rows": null,
            "grid_column": null,
            "grid_gap": null,
            "grid_row": null,
            "grid_template_areas": null,
            "grid_template_columns": null,
            "grid_template_rows": null,
            "height": null,
            "justify_content": null,
            "justify_items": null,
            "left": null,
            "margin": null,
            "max_height": null,
            "max_width": null,
            "min_height": null,
            "min_width": null,
            "object_fit": null,
            "object_position": null,
            "order": null,
            "overflow": null,
            "overflow_x": null,
            "overflow_y": null,
            "padding": null,
            "right": null,
            "top": null,
            "visibility": null,
            "width": null
          }
        },
        "244b065ac97f4514b74ab42913a6632b": {
          "model_module": "@jupyter-widgets/controls",
          "model_module_version": "1.5.0",
          "model_name": "HBoxModel",
          "state": {
            "_dom_classes": [],
            "_model_module": "@jupyter-widgets/controls",
            "_model_module_version": "1.5.0",
            "_model_name": "HBoxModel",
            "_view_count": null,
            "_view_module": "@jupyter-widgets/controls",
            "_view_module_version": "1.5.0",
            "_view_name": "HBoxView",
            "box_style": "",
            "children": [
              "IPY_MODEL_bf03e416baaa4af7bd46777412c024fd",
              "IPY_MODEL_e21e135828fd48b0a45e97403bc51651",
              "IPY_MODEL_9717f91b93d44afa9b678a71a92410ba"
            ],
            "layout": "IPY_MODEL_b00d7ef267ce4cd5b18ee82465687c48"
          }
        },
        "2c9fbd2f33b04b2c9da1132c90b11b62": {
          "model_module": "@jupyter-widgets/controls",
          "model_module_version": "1.5.0",
          "model_name": "DescriptionStyleModel",
          "state": {
            "_model_module": "@jupyter-widgets/controls",
            "_model_module_version": "1.5.0",
            "_model_name": "DescriptionStyleModel",
            "_view_count": null,
            "_view_module": "@jupyter-widgets/base",
            "_view_module_version": "1.2.0",
            "_view_name": "StyleView",
            "description_width": ""
          }
        },
        "2eaf239c1e6d4dc48a4f75ef766ff813": {
          "model_module": "@jupyter-widgets/base",
          "model_module_version": "1.2.0",
          "model_name": "LayoutModel",
          "state": {
            "_model_module": "@jupyter-widgets/base",
            "_model_module_version": "1.2.0",
            "_model_name": "LayoutModel",
            "_view_count": null,
            "_view_module": "@jupyter-widgets/base",
            "_view_module_version": "1.2.0",
            "_view_name": "LayoutView",
            "align_content": null,
            "align_items": null,
            "align_self": null,
            "border": null,
            "bottom": null,
            "display": null,
            "flex": null,
            "flex_flow": null,
            "grid_area": null,
            "grid_auto_columns": null,
            "grid_auto_flow": null,
            "grid_auto_rows": null,
            "grid_column": null,
            "grid_gap": null,
            "grid_row": null,
            "grid_template_areas": null,
            "grid_template_columns": null,
            "grid_template_rows": null,
            "height": null,
            "justify_content": null,
            "justify_items": null,
            "left": null,
            "margin": null,
            "max_height": null,
            "max_width": null,
            "min_height": null,
            "min_width": null,
            "object_fit": null,
            "object_position": null,
            "order": null,
            "overflow": null,
            "overflow_x": null,
            "overflow_y": null,
            "padding": null,
            "right": null,
            "top": null,
            "visibility": null,
            "width": null
          }
        },
        "2f7376a345a7498b86176fab63b46f90": {
          "model_module": "@jupyter-widgets/base",
          "model_module_version": "1.2.0",
          "model_name": "LayoutModel",
          "state": {
            "_model_module": "@jupyter-widgets/base",
            "_model_module_version": "1.2.0",
            "_model_name": "LayoutModel",
            "_view_count": null,
            "_view_module": "@jupyter-widgets/base",
            "_view_module_version": "1.2.0",
            "_view_name": "LayoutView",
            "align_content": null,
            "align_items": null,
            "align_self": null,
            "border": null,
            "bottom": null,
            "display": null,
            "flex": null,
            "flex_flow": null,
            "grid_area": null,
            "grid_auto_columns": null,
            "grid_auto_flow": null,
            "grid_auto_rows": null,
            "grid_column": null,
            "grid_gap": null,
            "grid_row": null,
            "grid_template_areas": null,
            "grid_template_columns": null,
            "grid_template_rows": null,
            "height": null,
            "justify_content": null,
            "justify_items": null,
            "left": null,
            "margin": null,
            "max_height": null,
            "max_width": null,
            "min_height": null,
            "min_width": null,
            "object_fit": null,
            "object_position": null,
            "order": null,
            "overflow": null,
            "overflow_x": null,
            "overflow_y": null,
            "padding": null,
            "right": null,
            "top": null,
            "visibility": null,
            "width": null
          }
        },
        "31cdb44ba7c7462f9011de361b350ae2": {
          "model_module": "@jupyter-widgets/controls",
          "model_module_version": "1.5.0",
          "model_name": "DescriptionStyleModel",
          "state": {
            "_model_module": "@jupyter-widgets/controls",
            "_model_module_version": "1.5.0",
            "_model_name": "DescriptionStyleModel",
            "_view_count": null,
            "_view_module": "@jupyter-widgets/base",
            "_view_module_version": "1.2.0",
            "_view_name": "StyleView",
            "description_width": ""
          }
        },
        "335b5da8ba0b4529941531470c85cfc4": {
          "model_module": "@jupyter-widgets/controls",
          "model_module_version": "1.5.0",
          "model_name": "DescriptionStyleModel",
          "state": {
            "_model_module": "@jupyter-widgets/controls",
            "_model_module_version": "1.5.0",
            "_model_name": "DescriptionStyleModel",
            "_view_count": null,
            "_view_module": "@jupyter-widgets/base",
            "_view_module_version": "1.2.0",
            "_view_name": "StyleView",
            "description_width": ""
          }
        },
        "343f8918639d44028703e051835d5442": {
          "model_module": "@jupyter-widgets/controls",
          "model_module_version": "1.5.0",
          "model_name": "DescriptionStyleModel",
          "state": {
            "_model_module": "@jupyter-widgets/controls",
            "_model_module_version": "1.5.0",
            "_model_name": "DescriptionStyleModel",
            "_view_count": null,
            "_view_module": "@jupyter-widgets/base",
            "_view_module_version": "1.2.0",
            "_view_name": "StyleView",
            "description_width": ""
          }
        },
        "353118f9bdff4f038708577188d5bd9d": {
          "model_module": "@jupyter-widgets/controls",
          "model_module_version": "1.5.0",
          "model_name": "HBoxModel",
          "state": {
            "_dom_classes": [],
            "_model_module": "@jupyter-widgets/controls",
            "_model_module_version": "1.5.0",
            "_model_name": "HBoxModel",
            "_view_count": null,
            "_view_module": "@jupyter-widgets/controls",
            "_view_module_version": "1.5.0",
            "_view_name": "HBoxView",
            "box_style": "",
            "children": [
              "IPY_MODEL_47b7cb9e476d48cf8e86597166616990",
              "IPY_MODEL_1435b179a1ac4904a9e3506ed0d316c3",
              "IPY_MODEL_684622850ac64ffe9e2922eb0ba7ff68"
            ],
            "layout": "IPY_MODEL_197453c847204633b622d4cf6c09f17e"
          }
        },
        "3974d27bae8b4ce68b1f489249260309": {
          "model_module": "@jupyter-widgets/controls",
          "model_module_version": "1.5.0",
          "model_name": "HTMLModel",
          "state": {
            "_dom_classes": [],
            "_model_module": "@jupyter-widgets/controls",
            "_model_module_version": "1.5.0",
            "_model_name": "HTMLModel",
            "_view_count": null,
            "_view_module": "@jupyter-widgets/controls",
            "_view_module_version": "1.5.0",
            "_view_name": "HTMLView",
            "description": "",
            "description_tooltip": null,
            "layout": "IPY_MODEL_1431ae2235654db0a479f6b38fa13818",
            "placeholder": "​",
            "style": "IPY_MODEL_08e32bc97c3b47b9a727f26f402224ae",
            "value": " 625/625 [00:00&lt;00:00, 22.0kB/s]"
          }
        },
        "39cdc27b4b7c4272b38318a1eb32be27": {
          "model_module": "@jupyter-widgets/base",
          "model_module_version": "1.2.0",
          "model_name": "LayoutModel",
          "state": {
            "_model_module": "@jupyter-widgets/base",
            "_model_module_version": "1.2.0",
            "_model_name": "LayoutModel",
            "_view_count": null,
            "_view_module": "@jupyter-widgets/base",
            "_view_module_version": "1.2.0",
            "_view_name": "LayoutView",
            "align_content": null,
            "align_items": null,
            "align_self": null,
            "border": null,
            "bottom": null,
            "display": null,
            "flex": null,
            "flex_flow": null,
            "grid_area": null,
            "grid_auto_columns": null,
            "grid_auto_flow": null,
            "grid_auto_rows": null,
            "grid_column": null,
            "grid_gap": null,
            "grid_row": null,
            "grid_template_areas": null,
            "grid_template_columns": null,
            "grid_template_rows": null,
            "height": null,
            "justify_content": null,
            "justify_items": null,
            "left": null,
            "margin": null,
            "max_height": null,
            "max_width": null,
            "min_height": null,
            "min_width": null,
            "object_fit": null,
            "object_position": null,
            "order": null,
            "overflow": null,
            "overflow_x": null,
            "overflow_y": null,
            "padding": null,
            "right": null,
            "top": null,
            "visibility": null,
            "width": null
          }
        },
        "3bd229f2101941b59cfc738771556e12": {
          "model_module": "@jupyter-widgets/base",
          "model_module_version": "1.2.0",
          "model_name": "LayoutModel",
          "state": {
            "_model_module": "@jupyter-widgets/base",
            "_model_module_version": "1.2.0",
            "_model_name": "LayoutModel",
            "_view_count": null,
            "_view_module": "@jupyter-widgets/base",
            "_view_module_version": "1.2.0",
            "_view_name": "LayoutView",
            "align_content": null,
            "align_items": null,
            "align_self": null,
            "border": null,
            "bottom": null,
            "display": null,
            "flex": null,
            "flex_flow": null,
            "grid_area": null,
            "grid_auto_columns": null,
            "grid_auto_flow": null,
            "grid_auto_rows": null,
            "grid_column": null,
            "grid_gap": null,
            "grid_row": null,
            "grid_template_areas": null,
            "grid_template_columns": null,
            "grid_template_rows": null,
            "height": null,
            "justify_content": null,
            "justify_items": null,
            "left": null,
            "margin": null,
            "max_height": null,
            "max_width": null,
            "min_height": null,
            "min_width": null,
            "object_fit": null,
            "object_position": null,
            "order": null,
            "overflow": null,
            "overflow_x": null,
            "overflow_y": null,
            "padding": null,
            "right": null,
            "top": null,
            "visibility": null,
            "width": null
          }
        },
        "3dc3f89f26c34fcfa3ea309ca9349bcd": {
          "model_module": "@jupyter-widgets/controls",
          "model_module_version": "1.5.0",
          "model_name": "HTMLModel",
          "state": {
            "_dom_classes": [],
            "_model_module": "@jupyter-widgets/controls",
            "_model_module_version": "1.5.0",
            "_model_name": "HTMLModel",
            "_view_count": null,
            "_view_module": "@jupyter-widgets/controls",
            "_view_module_version": "1.5.0",
            "_view_name": "HTMLView",
            "description": "",
            "description_tooltip": null,
            "layout": "IPY_MODEL_7250c8480b39420aa6b52866707cdae8",
            "placeholder": "​",
            "style": "IPY_MODEL_7006d5ab084345a9934bdbed4a27f33c",
            "value": "Downloading data: 100%"
          }
        },
        "3ec2d005d7c449bdae4c56d9ad497daa": {
          "model_module": "@jupyter-widgets/controls",
          "model_module_version": "1.5.0",
          "model_name": "DescriptionStyleModel",
          "state": {
            "_model_module": "@jupyter-widgets/controls",
            "_model_module_version": "1.5.0",
            "_model_name": "DescriptionStyleModel",
            "_view_count": null,
            "_view_module": "@jupyter-widgets/base",
            "_view_module_version": "1.2.0",
            "_view_name": "StyleView",
            "description_width": ""
          }
        },
        "40f84637ebab45b7b2a7780b32882ce0": {
          "model_module": "@jupyter-widgets/controls",
          "model_module_version": "1.5.0",
          "model_name": "HBoxModel",
          "state": {
            "_dom_classes": [],
            "_model_module": "@jupyter-widgets/controls",
            "_model_module_version": "1.5.0",
            "_model_name": "HBoxModel",
            "_view_count": null,
            "_view_module": "@jupyter-widgets/controls",
            "_view_module_version": "1.5.0",
            "_view_name": "HBoxView",
            "box_style": "",
            "children": [
              "IPY_MODEL_5c7ca0ee98174ceaa784762502ac66c9",
              "IPY_MODEL_d8f9ea2cee4f4e0ba6c6f4fae7fbe9e3",
              "IPY_MODEL_9f5240f4446642e2b103d5cad17d2c7a"
            ],
            "layout": "IPY_MODEL_f272cf655ef347ac9d81f3452e39e8e6"
          }
        },
        "422a3ad50f6e4e15a282ccd57c224c2d": {
          "model_module": "@jupyter-widgets/base",
          "model_module_version": "1.2.0",
          "model_name": "LayoutModel",
          "state": {
            "_model_module": "@jupyter-widgets/base",
            "_model_module_version": "1.2.0",
            "_model_name": "LayoutModel",
            "_view_count": null,
            "_view_module": "@jupyter-widgets/base",
            "_view_module_version": "1.2.0",
            "_view_name": "LayoutView",
            "align_content": null,
            "align_items": null,
            "align_self": null,
            "border": null,
            "bottom": null,
            "display": null,
            "flex": null,
            "flex_flow": null,
            "grid_area": null,
            "grid_auto_columns": null,
            "grid_auto_flow": null,
            "grid_auto_rows": null,
            "grid_column": null,
            "grid_gap": null,
            "grid_row": null,
            "grid_template_areas": null,
            "grid_template_columns": null,
            "grid_template_rows": null,
            "height": null,
            "justify_content": null,
            "justify_items": null,
            "left": null,
            "margin": null,
            "max_height": null,
            "max_width": null,
            "min_height": null,
            "min_width": null,
            "object_fit": null,
            "object_position": null,
            "order": null,
            "overflow": null,
            "overflow_x": null,
            "overflow_y": null,
            "padding": null,
            "right": null,
            "top": null,
            "visibility": "hidden",
            "width": null
          }
        },
        "4366dbd5f33e46228a1cecdfa6994d84": {
          "model_module": "@jupyter-widgets/base",
          "model_module_version": "1.2.0",
          "model_name": "LayoutModel",
          "state": {
            "_model_module": "@jupyter-widgets/base",
            "_model_module_version": "1.2.0",
            "_model_name": "LayoutModel",
            "_view_count": null,
            "_view_module": "@jupyter-widgets/base",
            "_view_module_version": "1.2.0",
            "_view_name": "LayoutView",
            "align_content": null,
            "align_items": null,
            "align_self": null,
            "border": null,
            "bottom": null,
            "display": null,
            "flex": null,
            "flex_flow": null,
            "grid_area": null,
            "grid_auto_columns": null,
            "grid_auto_flow": null,
            "grid_auto_rows": null,
            "grid_column": null,
            "grid_gap": null,
            "grid_row": null,
            "grid_template_areas": null,
            "grid_template_columns": null,
            "grid_template_rows": null,
            "height": null,
            "justify_content": null,
            "justify_items": null,
            "left": null,
            "margin": null,
            "max_height": null,
            "max_width": null,
            "min_height": null,
            "min_width": null,
            "object_fit": null,
            "object_position": null,
            "order": null,
            "overflow": null,
            "overflow_x": null,
            "overflow_y": null,
            "padding": null,
            "right": null,
            "top": null,
            "visibility": null,
            "width": null
          }
        },
        "446959d43b104e5eac9bed7900b90925": {
          "model_module": "@jupyter-widgets/controls",
          "model_module_version": "1.5.0",
          "model_name": "FloatProgressModel",
          "state": {
            "_dom_classes": [],
            "_model_module": "@jupyter-widgets/controls",
            "_model_module_version": "1.5.0",
            "_model_name": "FloatProgressModel",
            "_view_count": null,
            "_view_module": "@jupyter-widgets/controls",
            "_view_module_version": "1.5.0",
            "_view_name": "ProgressView",
            "bar_style": "success",
            "description": "",
            "description_tooltip": null,
            "layout": "IPY_MODEL_63eddf75af274cc0a8f9512d9d164de0",
            "max": 625,
            "min": 0,
            "orientation": "horizontal",
            "style": "IPY_MODEL_119e396bb9794b729e899e67379de7b3",
            "value": 625
          }
        },
        "46109e0ab366410bb4c5990f2b02c0f5": {
          "model_module": "@jupyter-widgets/base",
          "model_module_version": "1.2.0",
          "model_name": "LayoutModel",
          "state": {
            "_model_module": "@jupyter-widgets/base",
            "_model_module_version": "1.2.0",
            "_model_name": "LayoutModel",
            "_view_count": null,
            "_view_module": "@jupyter-widgets/base",
            "_view_module_version": "1.2.0",
            "_view_name": "LayoutView",
            "align_content": null,
            "align_items": null,
            "align_self": null,
            "border": null,
            "bottom": null,
            "display": null,
            "flex": null,
            "flex_flow": null,
            "grid_area": null,
            "grid_auto_columns": null,
            "grid_auto_flow": null,
            "grid_auto_rows": null,
            "grid_column": null,
            "grid_gap": null,
            "grid_row": null,
            "grid_template_areas": null,
            "grid_template_columns": null,
            "grid_template_rows": null,
            "height": null,
            "justify_content": null,
            "justify_items": null,
            "left": null,
            "margin": null,
            "max_height": null,
            "max_width": null,
            "min_height": null,
            "min_width": null,
            "object_fit": null,
            "object_position": null,
            "order": null,
            "overflow": null,
            "overflow_x": null,
            "overflow_y": null,
            "padding": null,
            "right": null,
            "top": null,
            "visibility": null,
            "width": null
          }
        },
        "47b7cb9e476d48cf8e86597166616990": {
          "model_module": "@jupyter-widgets/controls",
          "model_module_version": "1.5.0",
          "model_name": "HTMLModel",
          "state": {
            "_dom_classes": [],
            "_model_module": "@jupyter-widgets/controls",
            "_model_module_version": "1.5.0",
            "_model_name": "HTMLModel",
            "_view_count": null,
            "_view_module": "@jupyter-widgets/controls",
            "_view_module_version": "1.5.0",
            "_view_name": "HTMLView",
            "description": "",
            "description_tooltip": null,
            "layout": "IPY_MODEL_6318c48298394f719885fce4b53322fb",
            "placeholder": "​",
            "style": "IPY_MODEL_6960d318eb7f4b5b8cf74065548992dd",
            "value": "Downloading: 100%"
          }
        },
        "4c0279aefdea42319960a5ddacc3fd80": {
          "model_module": "@jupyter-widgets/controls",
          "model_module_version": "1.5.0",
          "model_name": "FloatProgressModel",
          "state": {
            "_dom_classes": [],
            "_model_module": "@jupyter-widgets/controls",
            "_model_module_version": "1.5.0",
            "_model_name": "FloatProgressModel",
            "_view_count": null,
            "_view_module": "@jupyter-widgets/controls",
            "_view_module_version": "1.5.0",
            "_view_name": "ProgressView",
            "bar_style": "success",
            "description": "",
            "description_tooltip": null,
            "layout": "IPY_MODEL_64d7e39e4ba94c65a9bd81227da2c32c",
            "max": 714314041,
            "min": 0,
            "orientation": "horizontal",
            "style": "IPY_MODEL_af85c6147e1d41818a14e0a66f42eac0",
            "value": 714314041
          }
        },
        "4e833fc1d8b54c5eb5228cf1ca3871ea": {
          "model_module": "@jupyter-widgets/controls",
          "model_module_version": "1.5.0",
          "model_name": "HTMLModel",
          "state": {
            "_dom_classes": [],
            "_model_module": "@jupyter-widgets/controls",
            "_model_module_version": "1.5.0",
            "_model_name": "HTMLModel",
            "_view_count": null,
            "_view_module": "@jupyter-widgets/controls",
            "_view_module_version": "1.5.0",
            "_view_name": "HTMLView",
            "description": "",
            "description_tooltip": null,
            "layout": "IPY_MODEL_bd4ae2ee0d9045988abe3c4fbbeb696e",
            "placeholder": "​",
            "style": "IPY_MODEL_90a3bf56690b45239b000a5875019cd8",
            "value": " 21.4k/21.4k [00:00&lt;00:00, 819kB/s]"
          }
        },
        "5014ff3ec29642d09b15eeb7459c9b53": {
          "model_module": "@jupyter-widgets/base",
          "model_module_version": "1.2.0",
          "model_name": "LayoutModel",
          "state": {
            "_model_module": "@jupyter-widgets/base",
            "_model_module_version": "1.2.0",
            "_model_name": "LayoutModel",
            "_view_count": null,
            "_view_module": "@jupyter-widgets/base",
            "_view_module_version": "1.2.0",
            "_view_name": "LayoutView",
            "align_content": null,
            "align_items": null,
            "align_self": null,
            "border": null,
            "bottom": null,
            "display": null,
            "flex": null,
            "flex_flow": null,
            "grid_area": null,
            "grid_auto_columns": null,
            "grid_auto_flow": null,
            "grid_auto_rows": null,
            "grid_column": null,
            "grid_gap": null,
            "grid_row": null,
            "grid_template_areas": null,
            "grid_template_columns": null,
            "grid_template_rows": null,
            "height": null,
            "justify_content": null,
            "justify_items": null,
            "left": null,
            "margin": null,
            "max_height": null,
            "max_width": null,
            "min_height": null,
            "min_width": null,
            "object_fit": null,
            "object_position": null,
            "order": null,
            "overflow": null,
            "overflow_x": null,
            "overflow_y": null,
            "padding": null,
            "right": null,
            "top": null,
            "visibility": null,
            "width": null
          }
        },
        "50bfc140797048e8a4d918baf63bb669": {
          "model_module": "@jupyter-widgets/controls",
          "model_module_version": "1.5.0",
          "model_name": "FloatProgressModel",
          "state": {
            "_dom_classes": [],
            "_model_module": "@jupyter-widgets/controls",
            "_model_module_version": "1.5.0",
            "_model_name": "FloatProgressModel",
            "_view_count": null,
            "_view_module": "@jupyter-widgets/controls",
            "_view_module_version": "1.5.0",
            "_view_name": "ProgressView",
            "bar_style": "success",
            "description": "",
            "description_tooltip": null,
            "layout": "IPY_MODEL_aa0c8b6957af40e3b4047a5110fe6bcf",
            "max": 1961828,
            "min": 0,
            "orientation": "horizontal",
            "style": "IPY_MODEL_c4cc364e2499441bb26f03f9abf29182",
            "value": 1961828
          }
        },
        "50fa280f92cd49baa34854243dee15ce": {
          "model_module": "@jupyter-widgets/base",
          "model_module_version": "1.2.0",
          "model_name": "LayoutModel",
          "state": {
            "_model_module": "@jupyter-widgets/base",
            "_model_module_version": "1.2.0",
            "_model_name": "LayoutModel",
            "_view_count": null,
            "_view_module": "@jupyter-widgets/base",
            "_view_module_version": "1.2.0",
            "_view_name": "LayoutView",
            "align_content": null,
            "align_items": null,
            "align_self": null,
            "border": null,
            "bottom": null,
            "display": null,
            "flex": null,
            "flex_flow": null,
            "grid_area": null,
            "grid_auto_columns": null,
            "grid_auto_flow": null,
            "grid_auto_rows": null,
            "grid_column": null,
            "grid_gap": null,
            "grid_row": null,
            "grid_template_areas": null,
            "grid_template_columns": null,
            "grid_template_rows": null,
            "height": null,
            "justify_content": null,
            "justify_items": null,
            "left": null,
            "margin": null,
            "max_height": null,
            "max_width": null,
            "min_height": null,
            "min_width": null,
            "object_fit": null,
            "object_position": null,
            "order": null,
            "overflow": null,
            "overflow_x": null,
            "overflow_y": null,
            "padding": null,
            "right": null,
            "top": null,
            "visibility": null,
            "width": null
          }
        },
        "51d630af505a4ed6a60f1d9770a293fe": {
          "model_module": "@jupyter-widgets/base",
          "model_module_version": "1.2.0",
          "model_name": "LayoutModel",
          "state": {
            "_model_module": "@jupyter-widgets/base",
            "_model_module_version": "1.2.0",
            "_model_name": "LayoutModel",
            "_view_count": null,
            "_view_module": "@jupyter-widgets/base",
            "_view_module_version": "1.2.0",
            "_view_name": "LayoutView",
            "align_content": null,
            "align_items": null,
            "align_self": null,
            "border": null,
            "bottom": null,
            "display": null,
            "flex": null,
            "flex_flow": null,
            "grid_area": null,
            "grid_auto_columns": null,
            "grid_auto_flow": null,
            "grid_auto_rows": null,
            "grid_column": null,
            "grid_gap": null,
            "grid_row": null,
            "grid_template_areas": null,
            "grid_template_columns": null,
            "grid_template_rows": null,
            "height": null,
            "justify_content": null,
            "justify_items": null,
            "left": null,
            "margin": null,
            "max_height": null,
            "max_width": null,
            "min_height": null,
            "min_width": null,
            "object_fit": null,
            "object_position": null,
            "order": null,
            "overflow": null,
            "overflow_x": null,
            "overflow_y": null,
            "padding": null,
            "right": null,
            "top": null,
            "visibility": null,
            "width": null
          }
        },
        "59ad0903f594474eb89c7ce1900259b7": {
          "model_module": "@jupyter-widgets/controls",
          "model_module_version": "1.5.0",
          "model_name": "HBoxModel",
          "state": {
            "_dom_classes": [],
            "_model_module": "@jupyter-widgets/controls",
            "_model_module_version": "1.5.0",
            "_model_name": "HBoxModel",
            "_view_count": null,
            "_view_module": "@jupyter-widgets/controls",
            "_view_module_version": "1.5.0",
            "_view_name": "HBoxView",
            "box_style": "",
            "children": [
              "IPY_MODEL_6951ea00dbbe450988056f5d392ebf3b",
              "IPY_MODEL_50bfc140797048e8a4d918baf63bb669",
              "IPY_MODEL_70dd04659c244abfbb9e29e3febcd2bf"
            ],
            "layout": "IPY_MODEL_84fb5cbf699240cd8c3acbccad56afe6"
          }
        },
        "5ab2a96256af4ea9b4b7d8338f35eaa4": {
          "model_module": "@jupyter-widgets/controls",
          "model_module_version": "1.5.0",
          "model_name": "ProgressStyleModel",
          "state": {
            "_model_module": "@jupyter-widgets/controls",
            "_model_module_version": "1.5.0",
            "_model_name": "ProgressStyleModel",
            "_view_count": null,
            "_view_module": "@jupyter-widgets/base",
            "_view_module_version": "1.2.0",
            "_view_name": "StyleView",
            "bar_color": null,
            "description_width": ""
          }
        },
        "5c7ca0ee98174ceaa784762502ac66c9": {
          "model_module": "@jupyter-widgets/controls",
          "model_module_version": "1.5.0",
          "model_name": "HTMLModel",
          "state": {
            "_dom_classes": [],
            "_model_module": "@jupyter-widgets/controls",
            "_model_module_version": "1.5.0",
            "_model_name": "HTMLModel",
            "_view_count": null,
            "_view_module": "@jupyter-widgets/controls",
            "_view_module_version": "1.5.0",
            "_view_name": "HTMLView",
            "description": "",
            "description_tooltip": null,
            "layout": "IPY_MODEL_ee0fa46c27434cb5ae1216d85e49cac7",
            "placeholder": "​",
            "style": "IPY_MODEL_df918c9893504cc1b25744033e7e9258",
            "value": "Downloading: 100%"
          }
        },
        "5dd3deec438e42d284f1ce2557316e9d": {
          "model_module": "@jupyter-widgets/controls",
          "model_module_version": "1.5.0",
          "model_name": "ProgressStyleModel",
          "state": {
            "_model_module": "@jupyter-widgets/controls",
            "_model_module_version": "1.5.0",
            "_model_name": "ProgressStyleModel",
            "_view_count": null,
            "_view_module": "@jupyter-widgets/base",
            "_view_module_version": "1.2.0",
            "_view_name": "StyleView",
            "bar_color": null,
            "description_width": ""
          }
        },
        "6258b3d476e5411ea90c10d81e3d06cd": {
          "model_module": "@jupyter-widgets/controls",
          "model_module_version": "1.5.0",
          "model_name": "HTMLModel",
          "state": {
            "_dom_classes": [],
            "_model_module": "@jupyter-widgets/controls",
            "_model_module_version": "1.5.0",
            "_model_name": "HTMLModel",
            "_view_count": null,
            "_view_module": "@jupyter-widgets/controls",
            "_view_module_version": "1.5.0",
            "_view_name": "HTMLView",
            "description": "",
            "description_tooltip": null,
            "layout": "IPY_MODEL_6f896e22fc304b04ab3463d673dff859",
            "placeholder": "​",
            "style": "IPY_MODEL_63bb10e825824d1286c61d7648e69680",
            "value": "Downloading: 100%"
          }
        },
        "6318c48298394f719885fce4b53322fb": {
          "model_module": "@jupyter-widgets/base",
          "model_module_version": "1.2.0",
          "model_name": "LayoutModel",
          "state": {
            "_model_module": "@jupyter-widgets/base",
            "_model_module_version": "1.2.0",
            "_model_name": "LayoutModel",
            "_view_count": null,
            "_view_module": "@jupyter-widgets/base",
            "_view_module_version": "1.2.0",
            "_view_name": "LayoutView",
            "align_content": null,
            "align_items": null,
            "align_self": null,
            "border": null,
            "bottom": null,
            "display": null,
            "flex": null,
            "flex_flow": null,
            "grid_area": null,
            "grid_auto_columns": null,
            "grid_auto_flow": null,
            "grid_auto_rows": null,
            "grid_column": null,
            "grid_gap": null,
            "grid_row": null,
            "grid_template_areas": null,
            "grid_template_columns": null,
            "grid_template_rows": null,
            "height": null,
            "justify_content": null,
            "justify_items": null,
            "left": null,
            "margin": null,
            "max_height": null,
            "max_width": null,
            "min_height": null,
            "min_width": null,
            "object_fit": null,
            "object_position": null,
            "order": null,
            "overflow": null,
            "overflow_x": null,
            "overflow_y": null,
            "padding": null,
            "right": null,
            "top": null,
            "visibility": null,
            "width": null
          }
        },
        "63bb10e825824d1286c61d7648e69680": {
          "model_module": "@jupyter-widgets/controls",
          "model_module_version": "1.5.0",
          "model_name": "DescriptionStyleModel",
          "state": {
            "_model_module": "@jupyter-widgets/controls",
            "_model_module_version": "1.5.0",
            "_model_name": "DescriptionStyleModel",
            "_view_count": null,
            "_view_module": "@jupyter-widgets/base",
            "_view_module_version": "1.2.0",
            "_view_name": "StyleView",
            "description_width": ""
          }
        },
        "63eddf75af274cc0a8f9512d9d164de0": {
          "model_module": "@jupyter-widgets/base",
          "model_module_version": "1.2.0",
          "model_name": "LayoutModel",
          "state": {
            "_model_module": "@jupyter-widgets/base",
            "_model_module_version": "1.2.0",
            "_model_name": "LayoutModel",
            "_view_count": null,
            "_view_module": "@jupyter-widgets/base",
            "_view_module_version": "1.2.0",
            "_view_name": "LayoutView",
            "align_content": null,
            "align_items": null,
            "align_self": null,
            "border": null,
            "bottom": null,
            "display": null,
            "flex": null,
            "flex_flow": null,
            "grid_area": null,
            "grid_auto_columns": null,
            "grid_auto_flow": null,
            "grid_auto_rows": null,
            "grid_column": null,
            "grid_gap": null,
            "grid_row": null,
            "grid_template_areas": null,
            "grid_template_columns": null,
            "grid_template_rows": null,
            "height": null,
            "justify_content": null,
            "justify_items": null,
            "left": null,
            "margin": null,
            "max_height": null,
            "max_width": null,
            "min_height": null,
            "min_width": null,
            "object_fit": null,
            "object_position": null,
            "order": null,
            "overflow": null,
            "overflow_x": null,
            "overflow_y": null,
            "padding": null,
            "right": null,
            "top": null,
            "visibility": null,
            "width": null
          }
        },
        "64d7e39e4ba94c65a9bd81227da2c32c": {
          "model_module": "@jupyter-widgets/base",
          "model_module_version": "1.2.0",
          "model_name": "LayoutModel",
          "state": {
            "_model_module": "@jupyter-widgets/base",
            "_model_module_version": "1.2.0",
            "_model_name": "LayoutModel",
            "_view_count": null,
            "_view_module": "@jupyter-widgets/base",
            "_view_module_version": "1.2.0",
            "_view_name": "LayoutView",
            "align_content": null,
            "align_items": null,
            "align_self": null,
            "border": null,
            "bottom": null,
            "display": null,
            "flex": null,
            "flex_flow": null,
            "grid_area": null,
            "grid_auto_columns": null,
            "grid_auto_flow": null,
            "grid_auto_rows": null,
            "grid_column": null,
            "grid_gap": null,
            "grid_row": null,
            "grid_template_areas": null,
            "grid_template_columns": null,
            "grid_template_rows": null,
            "height": null,
            "justify_content": null,
            "justify_items": null,
            "left": null,
            "margin": null,
            "max_height": null,
            "max_width": null,
            "min_height": null,
            "min_width": null,
            "object_fit": null,
            "object_position": null,
            "order": null,
            "overflow": null,
            "overflow_x": null,
            "overflow_y": null,
            "padding": null,
            "right": null,
            "top": null,
            "visibility": null,
            "width": null
          }
        },
        "65bc99237c9e4d50bd65b51b8e5b4053": {
          "model_module": "@jupyter-widgets/controls",
          "model_module_version": "1.5.0",
          "model_name": "DescriptionStyleModel",
          "state": {
            "_model_module": "@jupyter-widgets/controls",
            "_model_module_version": "1.5.0",
            "_model_name": "DescriptionStyleModel",
            "_view_count": null,
            "_view_module": "@jupyter-widgets/base",
            "_view_module_version": "1.2.0",
            "_view_name": "StyleView",
            "description_width": ""
          }
        },
        "65fe52ce67cc41daa56b7a031c106ea1": {
          "model_module": "@jupyter-widgets/base",
          "model_module_version": "1.2.0",
          "model_name": "LayoutModel",
          "state": {
            "_model_module": "@jupyter-widgets/base",
            "_model_module_version": "1.2.0",
            "_model_name": "LayoutModel",
            "_view_count": null,
            "_view_module": "@jupyter-widgets/base",
            "_view_module_version": "1.2.0",
            "_view_name": "LayoutView",
            "align_content": null,
            "align_items": null,
            "align_self": null,
            "border": null,
            "bottom": null,
            "display": null,
            "flex": null,
            "flex_flow": null,
            "grid_area": null,
            "grid_auto_columns": null,
            "grid_auto_flow": null,
            "grid_auto_rows": null,
            "grid_column": null,
            "grid_gap": null,
            "grid_row": null,
            "grid_template_areas": null,
            "grid_template_columns": null,
            "grid_template_rows": null,
            "height": null,
            "justify_content": null,
            "justify_items": null,
            "left": null,
            "margin": null,
            "max_height": null,
            "max_width": null,
            "min_height": null,
            "min_width": null,
            "object_fit": null,
            "object_position": null,
            "order": null,
            "overflow": null,
            "overflow_x": null,
            "overflow_y": null,
            "padding": null,
            "right": null,
            "top": null,
            "visibility": null,
            "width": null
          }
        },
        "678a4f4ddee3441a9840bd536720c109": {
          "model_module": "@jupyter-widgets/controls",
          "model_module_version": "1.5.0",
          "model_name": "DescriptionStyleModel",
          "state": {
            "_model_module": "@jupyter-widgets/controls",
            "_model_module_version": "1.5.0",
            "_model_name": "DescriptionStyleModel",
            "_view_count": null,
            "_view_module": "@jupyter-widgets/base",
            "_view_module_version": "1.2.0",
            "_view_name": "StyleView",
            "description_width": ""
          }
        },
        "684622850ac64ffe9e2922eb0ba7ff68": {
          "model_module": "@jupyter-widgets/controls",
          "model_module_version": "1.5.0",
          "model_name": "HTMLModel",
          "state": {
            "_dom_classes": [],
            "_model_module": "@jupyter-widgets/controls",
            "_model_module_version": "1.5.0",
            "_model_name": "HTMLModel",
            "_view_count": null,
            "_view_module": "@jupyter-widgets/controls",
            "_view_module_version": "1.5.0",
            "_view_name": "HTMLView",
            "description": "",
            "description_tooltip": null,
            "layout": "IPY_MODEL_65fe52ce67cc41daa56b7a031c106ea1",
            "placeholder": "​",
            "style": "IPY_MODEL_678a4f4ddee3441a9840bd536720c109",
            "value": " 29.0/29.0 [00:00&lt;00:00, 1.25kB/s]"
          }
        },
        "6951ea00dbbe450988056f5d392ebf3b": {
          "model_module": "@jupyter-widgets/controls",
          "model_module_version": "1.5.0",
          "model_name": "HTMLModel",
          "state": {
            "_dom_classes": [],
            "_model_module": "@jupyter-widgets/controls",
            "_model_module_version": "1.5.0",
            "_model_name": "HTMLModel",
            "_view_count": null,
            "_view_module": "@jupyter-widgets/controls",
            "_view_module_version": "1.5.0",
            "_view_name": "HTMLView",
            "description": "",
            "description_tooltip": null,
            "layout": "IPY_MODEL_a6fdf939a3f0431a98ebe5a7a7ae6e40",
            "placeholder": "​",
            "style": "IPY_MODEL_dfc6b2425d7c4a5f90e9ed8c8f719494",
            "value": "Downloading: 100%"
          }
        },
        "6960d318eb7f4b5b8cf74065548992dd": {
          "model_module": "@jupyter-widgets/controls",
          "model_module_version": "1.5.0",
          "model_name": "DescriptionStyleModel",
          "state": {
            "_model_module": "@jupyter-widgets/controls",
            "_model_module_version": "1.5.0",
            "_model_name": "DescriptionStyleModel",
            "_view_count": null,
            "_view_module": "@jupyter-widgets/base",
            "_view_module_version": "1.2.0",
            "_view_name": "StyleView",
            "description_width": ""
          }
        },
        "69a91b1df610417cb77ecbe830188f4a": {
          "model_module": "@jupyter-widgets/controls",
          "model_module_version": "1.5.0",
          "model_name": "DescriptionStyleModel",
          "state": {
            "_model_module": "@jupyter-widgets/controls",
            "_model_module_version": "1.5.0",
            "_model_name": "DescriptionStyleModel",
            "_view_count": null,
            "_view_module": "@jupyter-widgets/base",
            "_view_module_version": "1.2.0",
            "_view_name": "StyleView",
            "description_width": ""
          }
        },
        "6a8f919b4dad41ba82f56018a662598d": {
          "model_module": "@jupyter-widgets/controls",
          "model_module_version": "1.5.0",
          "model_name": "HBoxModel",
          "state": {
            "_dom_classes": [],
            "_model_module": "@jupyter-widgets/controls",
            "_model_module_version": "1.5.0",
            "_model_name": "HBoxModel",
            "_view_count": null,
            "_view_module": "@jupyter-widgets/controls",
            "_view_module_version": "1.5.0",
            "_view_name": "HBoxView",
            "box_style": "",
            "children": [
              "IPY_MODEL_3dc3f89f26c34fcfa3ea309ca9349bcd",
              "IPY_MODEL_8c6ccb70ec964c5b9c2dccd00b9f951c",
              "IPY_MODEL_cc35277fdfe143a8bc4329a4f7b61ffd"
            ],
            "layout": "IPY_MODEL_4366dbd5f33e46228a1cecdfa6994d84"
          }
        },
        "6ae08cd038e14259a75c15ddb21f249f": {
          "model_module": "@jupyter-widgets/controls",
          "model_module_version": "1.5.0",
          "model_name": "DescriptionStyleModel",
          "state": {
            "_model_module": "@jupyter-widgets/controls",
            "_model_module_version": "1.5.0",
            "_model_name": "DescriptionStyleModel",
            "_view_count": null,
            "_view_module": "@jupyter-widgets/base",
            "_view_module_version": "1.2.0",
            "_view_name": "StyleView",
            "description_width": ""
          }
        },
        "6f896e22fc304b04ab3463d673dff859": {
          "model_module": "@jupyter-widgets/base",
          "model_module_version": "1.2.0",
          "model_name": "LayoutModel",
          "state": {
            "_model_module": "@jupyter-widgets/base",
            "_model_module_version": "1.2.0",
            "_model_name": "LayoutModel",
            "_view_count": null,
            "_view_module": "@jupyter-widgets/base",
            "_view_module_version": "1.2.0",
            "_view_name": "LayoutView",
            "align_content": null,
            "align_items": null,
            "align_self": null,
            "border": null,
            "bottom": null,
            "display": null,
            "flex": null,
            "flex_flow": null,
            "grid_area": null,
            "grid_auto_columns": null,
            "grid_auto_flow": null,
            "grid_auto_rows": null,
            "grid_column": null,
            "grid_gap": null,
            "grid_row": null,
            "grid_template_areas": null,
            "grid_template_columns": null,
            "grid_template_rows": null,
            "height": null,
            "justify_content": null,
            "justify_items": null,
            "left": null,
            "margin": null,
            "max_height": null,
            "max_width": null,
            "min_height": null,
            "min_width": null,
            "object_fit": null,
            "object_position": null,
            "order": null,
            "overflow": null,
            "overflow_x": null,
            "overflow_y": null,
            "padding": null,
            "right": null,
            "top": null,
            "visibility": null,
            "width": null
          }
        },
        "7006d5ab084345a9934bdbed4a27f33c": {
          "model_module": "@jupyter-widgets/controls",
          "model_module_version": "1.5.0",
          "model_name": "DescriptionStyleModel",
          "state": {
            "_model_module": "@jupyter-widgets/controls",
            "_model_module_version": "1.5.0",
            "_model_name": "DescriptionStyleModel",
            "_view_count": null,
            "_view_module": "@jupyter-widgets/base",
            "_view_module_version": "1.2.0",
            "_view_name": "StyleView",
            "description_width": ""
          }
        },
        "705ae7dbf93c4d929186327e89231139": {
          "model_module": "@jupyter-widgets/controls",
          "model_module_version": "1.5.0",
          "model_name": "HTMLModel",
          "state": {
            "_dom_classes": [],
            "_model_module": "@jupyter-widgets/controls",
            "_model_module_version": "1.5.0",
            "_model_name": "HTMLModel",
            "_view_count": null,
            "_view_module": "@jupyter-widgets/controls",
            "_view_module_version": "1.5.0",
            "_view_name": "HTMLView",
            "description": "",
            "description_tooltip": null,
            "layout": "IPY_MODEL_fe516d508db64a739e1c16b5aaad1136",
            "placeholder": "​",
            "style": "IPY_MODEL_850cc93d11b041db8d8834c4280466e3",
            "value": " 1083/3000 [00:00&lt;00:00, 10827.61 examples/s]"
          }
        },
        "70dd04659c244abfbb9e29e3febcd2bf": {
          "model_module": "@jupyter-widgets/controls",
          "model_module_version": "1.5.0",
          "model_name": "HTMLModel",
          "state": {
            "_dom_classes": [],
            "_model_module": "@jupyter-widgets/controls",
            "_model_module_version": "1.5.0",
            "_model_name": "HTMLModel",
            "_view_count": null,
            "_view_module": "@jupyter-widgets/controls",
            "_view_module_version": "1.5.0",
            "_view_name": "HTMLView",
            "description": "",
            "description_tooltip": null,
            "layout": "IPY_MODEL_39cdc27b4b7c4272b38318a1eb32be27",
            "placeholder": "​",
            "style": "IPY_MODEL_31cdb44ba7c7462f9011de361b350ae2",
            "value": " 1.96M/1.96M [00:00&lt;00:00, 4.34MB/s]"
          }
        },
        "7250c8480b39420aa6b52866707cdae8": {
          "model_module": "@jupyter-widgets/base",
          "model_module_version": "1.2.0",
          "model_name": "LayoutModel",
          "state": {
            "_model_module": "@jupyter-widgets/base",
            "_model_module_version": "1.2.0",
            "_model_name": "LayoutModel",
            "_view_count": null,
            "_view_module": "@jupyter-widgets/base",
            "_view_module_version": "1.2.0",
            "_view_name": "LayoutView",
            "align_content": null,
            "align_items": null,
            "align_self": null,
            "border": null,
            "bottom": null,
            "display": null,
            "flex": null,
            "flex_flow": null,
            "grid_area": null,
            "grid_auto_columns": null,
            "grid_auto_flow": null,
            "grid_auto_rows": null,
            "grid_column": null,
            "grid_gap": null,
            "grid_row": null,
            "grid_template_areas": null,
            "grid_template_columns": null,
            "grid_template_rows": null,
            "height": null,
            "justify_content": null,
            "justify_items": null,
            "left": null,
            "margin": null,
            "max_height": null,
            "max_width": null,
            "min_height": null,
            "min_width": null,
            "object_fit": null,
            "object_position": null,
            "order": null,
            "overflow": null,
            "overflow_x": null,
            "overflow_y": null,
            "padding": null,
            "right": null,
            "top": null,
            "visibility": null,
            "width": null
          }
        },
        "7b15d3c05dd74b588638c8f078335d4b": {
          "model_module": "@jupyter-widgets/controls",
          "model_module_version": "1.5.0",
          "model_name": "ProgressStyleModel",
          "state": {
            "_model_module": "@jupyter-widgets/controls",
            "_model_module_version": "1.5.0",
            "_model_name": "ProgressStyleModel",
            "_view_count": null,
            "_view_module": "@jupyter-widgets/base",
            "_view_module_version": "1.2.0",
            "_view_name": "StyleView",
            "bar_color": null,
            "description_width": ""
          }
        },
        "7c65969f95b04ae7a90bd7095a1cb5ad": {
          "model_module": "@jupyter-widgets/controls",
          "model_module_version": "1.5.0",
          "model_name": "ProgressStyleModel",
          "state": {
            "_model_module": "@jupyter-widgets/controls",
            "_model_module_version": "1.5.0",
            "_model_name": "ProgressStyleModel",
            "_view_count": null,
            "_view_module": "@jupyter-widgets/base",
            "_view_module_version": "1.2.0",
            "_view_name": "StyleView",
            "bar_color": null,
            "description_width": ""
          }
        },
        "84fb5cbf699240cd8c3acbccad56afe6": {
          "model_module": "@jupyter-widgets/base",
          "model_module_version": "1.2.0",
          "model_name": "LayoutModel",
          "state": {
            "_model_module": "@jupyter-widgets/base",
            "_model_module_version": "1.2.0",
            "_model_name": "LayoutModel",
            "_view_count": null,
            "_view_module": "@jupyter-widgets/base",
            "_view_module_version": "1.2.0",
            "_view_name": "LayoutView",
            "align_content": null,
            "align_items": null,
            "align_self": null,
            "border": null,
            "bottom": null,
            "display": null,
            "flex": null,
            "flex_flow": null,
            "grid_area": null,
            "grid_auto_columns": null,
            "grid_auto_flow": null,
            "grid_auto_rows": null,
            "grid_column": null,
            "grid_gap": null,
            "grid_row": null,
            "grid_template_areas": null,
            "grid_template_columns": null,
            "grid_template_rows": null,
            "height": null,
            "justify_content": null,
            "justify_items": null,
            "left": null,
            "margin": null,
            "max_height": null,
            "max_width": null,
            "min_height": null,
            "min_width": null,
            "object_fit": null,
            "object_position": null,
            "order": null,
            "overflow": null,
            "overflow_x": null,
            "overflow_y": null,
            "padding": null,
            "right": null,
            "top": null,
            "visibility": null,
            "width": null
          }
        },
        "850cc93d11b041db8d8834c4280466e3": {
          "model_module": "@jupyter-widgets/controls",
          "model_module_version": "1.5.0",
          "model_name": "DescriptionStyleModel",
          "state": {
            "_model_module": "@jupyter-widgets/controls",
            "_model_module_version": "1.5.0",
            "_model_name": "DescriptionStyleModel",
            "_view_count": null,
            "_view_module": "@jupyter-widgets/base",
            "_view_module_version": "1.2.0",
            "_view_name": "StyleView",
            "description_width": ""
          }
        },
        "8720c34815884ac1bbd1c3cdcf89f49c": {
          "model_module": "@jupyter-widgets/controls",
          "model_module_version": "1.5.0",
          "model_name": "HTMLModel",
          "state": {
            "_dom_classes": [],
            "_model_module": "@jupyter-widgets/controls",
            "_model_module_version": "1.5.0",
            "_model_name": "HTMLModel",
            "_view_count": null,
            "_view_module": "@jupyter-widgets/controls",
            "_view_module_version": "1.5.0",
            "_view_name": "HTMLView",
            "description": "",
            "description_tooltip": null,
            "layout": "IPY_MODEL_2023eb57d3b842d4bf0a01b87ff5b27f",
            "placeholder": "​",
            "style": "IPY_MODEL_13abb53e5540452688c830796434eb1d",
            "value": "Generating train split:  94%"
          }
        },
        "87e8fd1f85904462832cfb4042c2f85d": {
          "model_module": "@jupyter-widgets/controls",
          "model_module_version": "1.5.0",
          "model_name": "FloatProgressModel",
          "state": {
            "_dom_classes": [],
            "_model_module": "@jupyter-widgets/controls",
            "_model_module_version": "1.5.0",
            "_model_name": "FloatProgressModel",
            "_view_count": null,
            "_view_module": "@jupyter-widgets/controls",
            "_view_module_version": "1.5.0",
            "_view_name": "ProgressView",
            "bar_style": "success",
            "description": "",
            "description_tooltip": null,
            "layout": "IPY_MODEL_8c74dc2fe4914acf8fdc1cf852fff29e",
            "max": 22660,
            "min": 0,
            "orientation": "horizontal",
            "style": "IPY_MODEL_ce17d0f8123d442f9eb4d309489f5757",
            "value": 22660
          }
        },
        "8c6ccb70ec964c5b9c2dccd00b9f951c": {
          "model_module": "@jupyter-widgets/controls",
          "model_module_version": "1.5.0",
          "model_name": "FloatProgressModel",
          "state": {
            "_dom_classes": [],
            "_model_module": "@jupyter-widgets/controls",
            "_model_module_version": "1.5.0",
            "_model_name": "FloatProgressModel",
            "_view_count": null,
            "_view_module": "@jupyter-widgets/controls",
            "_view_module_version": "1.5.0",
            "_view_name": "ProgressView",
            "bar_style": "success",
            "description": "",
            "description_tooltip": null,
            "layout": "IPY_MODEL_a0b554e248894c3a9daa994c023fd099",
            "max": 1257374,
            "min": 0,
            "orientation": "horizontal",
            "style": "IPY_MODEL_0f64448b78614bfd8dff82507a4257e7",
            "value": 1257374
          }
        },
        "8c74dc2fe4914acf8fdc1cf852fff29e": {
          "model_module": "@jupyter-widgets/base",
          "model_module_version": "1.2.0",
          "model_name": "LayoutModel",
          "state": {
            "_model_module": "@jupyter-widgets/base",
            "_model_module_version": "1.2.0",
            "_model_name": "LayoutModel",
            "_view_count": null,
            "_view_module": "@jupyter-widgets/base",
            "_view_module_version": "1.2.0",
            "_view_name": "LayoutView",
            "align_content": null,
            "align_items": null,
            "align_self": null,
            "border": null,
            "bottom": null,
            "display": null,
            "flex": null,
            "flex_flow": null,
            "grid_area": null,
            "grid_auto_columns": null,
            "grid_auto_flow": null,
            "grid_auto_rows": null,
            "grid_column": null,
            "grid_gap": null,
            "grid_row": null,
            "grid_template_areas": null,
            "grid_template_columns": null,
            "grid_template_rows": null,
            "height": null,
            "justify_content": null,
            "justify_items": null,
            "left": null,
            "margin": null,
            "max_height": null,
            "max_width": null,
            "min_height": null,
            "min_width": null,
            "object_fit": null,
            "object_position": null,
            "order": null,
            "overflow": null,
            "overflow_x": null,
            "overflow_y": null,
            "padding": null,
            "right": null,
            "top": null,
            "visibility": null,
            "width": null
          }
        },
        "8cf4e9d3e92e4548ae39d37038a1a72d": {
          "model_module": "@jupyter-widgets/base",
          "model_module_version": "1.2.0",
          "model_name": "LayoutModel",
          "state": {
            "_model_module": "@jupyter-widgets/base",
            "_model_module_version": "1.2.0",
            "_model_name": "LayoutModel",
            "_view_count": null,
            "_view_module": "@jupyter-widgets/base",
            "_view_module_version": "1.2.0",
            "_view_name": "LayoutView",
            "align_content": null,
            "align_items": null,
            "align_self": null,
            "border": null,
            "bottom": null,
            "display": null,
            "flex": null,
            "flex_flow": null,
            "grid_area": null,
            "grid_auto_columns": null,
            "grid_auto_flow": null,
            "grid_auto_rows": null,
            "grid_column": null,
            "grid_gap": null,
            "grid_row": null,
            "grid_template_areas": null,
            "grid_template_columns": null,
            "grid_template_rows": null,
            "height": null,
            "justify_content": null,
            "justify_items": null,
            "left": null,
            "margin": null,
            "max_height": null,
            "max_width": null,
            "min_height": null,
            "min_width": null,
            "object_fit": null,
            "object_position": null,
            "order": null,
            "overflow": null,
            "overflow_x": null,
            "overflow_y": null,
            "padding": null,
            "right": null,
            "top": null,
            "visibility": null,
            "width": null
          }
        },
        "90a3bf56690b45239b000a5875019cd8": {
          "model_module": "@jupyter-widgets/controls",
          "model_module_version": "1.5.0",
          "model_name": "DescriptionStyleModel",
          "state": {
            "_model_module": "@jupyter-widgets/controls",
            "_model_module_version": "1.5.0",
            "_model_name": "DescriptionStyleModel",
            "_view_count": null,
            "_view_module": "@jupyter-widgets/base",
            "_view_module_version": "1.2.0",
            "_view_name": "StyleView",
            "description_width": ""
          }
        },
        "93648cbb398247c683f30dcb1c6190ce": {
          "model_module": "@jupyter-widgets/controls",
          "model_module_version": "1.5.0",
          "model_name": "ProgressStyleModel",
          "state": {
            "_model_module": "@jupyter-widgets/controls",
            "_model_module_version": "1.5.0",
            "_model_name": "ProgressStyleModel",
            "_view_count": null,
            "_view_module": "@jupyter-widgets/base",
            "_view_module_version": "1.2.0",
            "_view_name": "StyleView",
            "bar_color": null,
            "description_width": ""
          }
        },
        "945d3b9244b54e50a9e89a1c3206027b": {
          "model_module": "@jupyter-widgets/controls",
          "model_module_version": "1.5.0",
          "model_name": "DescriptionStyleModel",
          "state": {
            "_model_module": "@jupyter-widgets/controls",
            "_model_module_version": "1.5.0",
            "_model_name": "DescriptionStyleModel",
            "_view_count": null,
            "_view_module": "@jupyter-widgets/base",
            "_view_module_version": "1.2.0",
            "_view_name": "StyleView",
            "description_width": ""
          }
        },
        "9717f91b93d44afa9b678a71a92410ba": {
          "model_module": "@jupyter-widgets/controls",
          "model_module_version": "1.5.0",
          "model_name": "HTMLModel",
          "state": {
            "_dom_classes": [],
            "_model_module": "@jupyter-widgets/controls",
            "_model_module_version": "1.5.0",
            "_model_name": "HTMLModel",
            "_view_count": null,
            "_view_module": "@jupyter-widgets/controls",
            "_view_module_version": "1.5.0",
            "_view_name": "HTMLView",
            "description": "",
            "description_tooltip": null,
            "layout": "IPY_MODEL_ddea1fa41e18427da732621cc460e1a3",
            "placeholder": "​",
            "style": "IPY_MODEL_0e183ddde9ae4e26a109d01e31489693",
            "value": " 2/2 [00:00&lt;00:00, 64.08it/s]"
          }
        },
        "9943858b762b40ca903a15ee62c57bd7": {
          "model_module": "@jupyter-widgets/controls",
          "model_module_version": "1.5.0",
          "model_name": "HTMLModel",
          "state": {
            "_dom_classes": [],
            "_model_module": "@jupyter-widgets/controls",
            "_model_module_version": "1.5.0",
            "_model_name": "HTMLModel",
            "_view_count": null,
            "_view_module": "@jupyter-widgets/controls",
            "_view_module_version": "1.5.0",
            "_view_name": "HTMLView",
            "description": "",
            "description_tooltip": null,
            "layout": "IPY_MODEL_f29a7f7b5ff54bd090141a9b36495fbb",
            "placeholder": "​",
            "style": "IPY_MODEL_343f8918639d44028703e051835d5442",
            "value": "Downloading: 100%"
          }
        },
        "9c8ce5b91d0f4e4e9a5fac7abe302d9e": {
          "model_module": "@jupyter-widgets/controls",
          "model_module_version": "1.5.0",
          "model_name": "HBoxModel",
          "state": {
            "_dom_classes": [],
            "_model_module": "@jupyter-widgets/controls",
            "_model_module_version": "1.5.0",
            "_model_name": "HBoxModel",
            "_view_count": null,
            "_view_module": "@jupyter-widgets/controls",
            "_view_module_version": "1.5.0",
            "_view_name": "HBoxView",
            "box_style": "",
            "children": [
              "IPY_MODEL_04874c17391f4b1aa4eb1f68274f3423",
              "IPY_MODEL_162a6073bc644b9d82740e6256bfa2e4",
              "IPY_MODEL_dc4e9653c63840f385aa71574f7d47ce"
            ],
            "layout": "IPY_MODEL_2f7376a345a7498b86176fab63b46f90"
          }
        },
        "9f5240f4446642e2b103d5cad17d2c7a": {
          "model_module": "@jupyter-widgets/controls",
          "model_module_version": "1.5.0",
          "model_name": "HTMLModel",
          "state": {
            "_dom_classes": [],
            "_model_module": "@jupyter-widgets/controls",
            "_model_module_version": "1.5.0",
            "_model_name": "HTMLModel",
            "_view_count": null,
            "_view_module": "@jupyter-widgets/controls",
            "_view_module_version": "1.5.0",
            "_view_name": "HTMLView",
            "description": "",
            "description_tooltip": null,
            "layout": "IPY_MODEL_03de7b6f3ae94dcd94ce7bc02fc880b4",
            "placeholder": "​",
            "style": "IPY_MODEL_03113ae0eccc466fa8c2c1267c5605f8",
            "value": " 996k/996k [00:00&lt;00:00, 5.30MB/s]"
          }
        },
        "a05769cf845340158d20583aceda02a6": {
          "model_module": "@jupyter-widgets/base",
          "model_module_version": "1.2.0",
          "model_name": "LayoutModel",
          "state": {
            "_model_module": "@jupyter-widgets/base",
            "_model_module_version": "1.2.0",
            "_model_name": "LayoutModel",
            "_view_count": null,
            "_view_module": "@jupyter-widgets/base",
            "_view_module_version": "1.2.0",
            "_view_name": "LayoutView",
            "align_content": null,
            "align_items": null,
            "align_self": null,
            "border": null,
            "bottom": null,
            "display": null,
            "flex": null,
            "flex_flow": null,
            "grid_area": null,
            "grid_auto_columns": null,
            "grid_auto_flow": null,
            "grid_auto_rows": null,
            "grid_column": null,
            "grid_gap": null,
            "grid_row": null,
            "grid_template_areas": null,
            "grid_template_columns": null,
            "grid_template_rows": null,
            "height": null,
            "justify_content": null,
            "justify_items": null,
            "left": null,
            "margin": null,
            "max_height": null,
            "max_width": null,
            "min_height": null,
            "min_width": null,
            "object_fit": null,
            "object_position": null,
            "order": null,
            "overflow": null,
            "overflow_x": null,
            "overflow_y": null,
            "padding": null,
            "right": null,
            "top": null,
            "visibility": null,
            "width": null
          }
        },
        "a0b554e248894c3a9daa994c023fd099": {
          "model_module": "@jupyter-widgets/base",
          "model_module_version": "1.2.0",
          "model_name": "LayoutModel",
          "state": {
            "_model_module": "@jupyter-widgets/base",
            "_model_module_version": "1.2.0",
            "_model_name": "LayoutModel",
            "_view_count": null,
            "_view_module": "@jupyter-widgets/base",
            "_view_module_version": "1.2.0",
            "_view_name": "LayoutView",
            "align_content": null,
            "align_items": null,
            "align_self": null,
            "border": null,
            "bottom": null,
            "display": null,
            "flex": null,
            "flex_flow": null,
            "grid_area": null,
            "grid_auto_columns": null,
            "grid_auto_flow": null,
            "grid_auto_rows": null,
            "grid_column": null,
            "grid_gap": null,
            "grid_row": null,
            "grid_template_areas": null,
            "grid_template_columns": null,
            "grid_template_rows": null,
            "height": null,
            "justify_content": null,
            "justify_items": null,
            "left": null,
            "margin": null,
            "max_height": null,
            "max_width": null,
            "min_height": null,
            "min_width": null,
            "object_fit": null,
            "object_position": null,
            "order": null,
            "overflow": null,
            "overflow_x": null,
            "overflow_y": null,
            "padding": null,
            "right": null,
            "top": null,
            "visibility": null,
            "width": null
          }
        },
        "a369de17bea9452ba87991a7f5f2c665": {
          "model_module": "@jupyter-widgets/controls",
          "model_module_version": "1.5.0",
          "model_name": "DescriptionStyleModel",
          "state": {
            "_model_module": "@jupyter-widgets/controls",
            "_model_module_version": "1.5.0",
            "_model_name": "DescriptionStyleModel",
            "_view_count": null,
            "_view_module": "@jupyter-widgets/base",
            "_view_module_version": "1.2.0",
            "_view_name": "StyleView",
            "description_width": ""
          }
        },
        "a3a2ac9d384e453381aa3b6b786425e3": {
          "model_module": "@jupyter-widgets/controls",
          "model_module_version": "1.5.0",
          "model_name": "HBoxModel",
          "state": {
            "_dom_classes": [],
            "_model_module": "@jupyter-widgets/controls",
            "_model_module_version": "1.5.0",
            "_model_name": "HBoxModel",
            "_view_count": null,
            "_view_module": "@jupyter-widgets/controls",
            "_view_module_version": "1.5.0",
            "_view_name": "HBoxView",
            "box_style": "",
            "children": [
              "IPY_MODEL_b6c0a4a296e845d6b96e67232aa05017",
              "IPY_MODEL_b5a2ecfce8fb490584d20a0c1b89cf18",
              "IPY_MODEL_4e833fc1d8b54c5eb5228cf1ca3871ea"
            ],
            "layout": "IPY_MODEL_c9403e925252471893162e98df74507e"
          }
        },
        "a6a007014d184148ae6dde801bb4abc3": {
          "model_module": "@jupyter-widgets/controls",
          "model_module_version": "1.5.0",
          "model_name": "ProgressStyleModel",
          "state": {
            "_model_module": "@jupyter-widgets/controls",
            "_model_module_version": "1.5.0",
            "_model_name": "ProgressStyleModel",
            "_view_count": null,
            "_view_module": "@jupyter-widgets/base",
            "_view_module_version": "1.2.0",
            "_view_name": "StyleView",
            "bar_color": null,
            "description_width": ""
          }
        },
        "a6fca282f73c4ea598e1a682e41f547c": {
          "model_module": "@jupyter-widgets/controls",
          "model_module_version": "1.5.0",
          "model_name": "HBoxModel",
          "state": {
            "_dom_classes": [],
            "_model_module": "@jupyter-widgets/controls",
            "_model_module_version": "1.5.0",
            "_model_name": "HBoxModel",
            "_view_count": null,
            "_view_module": "@jupyter-widgets/controls",
            "_view_module_version": "1.5.0",
            "_view_name": "HBoxView",
            "box_style": "",
            "children": [
              "IPY_MODEL_6258b3d476e5411ea90c10d81e3d06cd",
              "IPY_MODEL_4c0279aefdea42319960a5ddacc3fd80",
              "IPY_MODEL_db06d404eff640d7bfef0ff62c6b2c28"
            ],
            "layout": "IPY_MODEL_17ce895b921c4301b13ae8d75011aa2a"
          }
        },
        "a6fdf939a3f0431a98ebe5a7a7ae6e40": {
          "model_module": "@jupyter-widgets/base",
          "model_module_version": "1.2.0",
          "model_name": "LayoutModel",
          "state": {
            "_model_module": "@jupyter-widgets/base",
            "_model_module_version": "1.2.0",
            "_model_name": "LayoutModel",
            "_view_count": null,
            "_view_module": "@jupyter-widgets/base",
            "_view_module_version": "1.2.0",
            "_view_name": "LayoutView",
            "align_content": null,
            "align_items": null,
            "align_self": null,
            "border": null,
            "bottom": null,
            "display": null,
            "flex": null,
            "flex_flow": null,
            "grid_area": null,
            "grid_auto_columns": null,
            "grid_auto_flow": null,
            "grid_auto_rows": null,
            "grid_column": null,
            "grid_gap": null,
            "grid_row": null,
            "grid_template_areas": null,
            "grid_template_columns": null,
            "grid_template_rows": null,
            "height": null,
            "justify_content": null,
            "justify_items": null,
            "left": null,
            "margin": null,
            "max_height": null,
            "max_width": null,
            "min_height": null,
            "min_width": null,
            "object_fit": null,
            "object_position": null,
            "order": null,
            "overflow": null,
            "overflow_x": null,
            "overflow_y": null,
            "padding": null,
            "right": null,
            "top": null,
            "visibility": null,
            "width": null
          }
        },
        "a8238db8e16c498da9f69cbc7065e453": {
          "model_module": "@jupyter-widgets/controls",
          "model_module_version": "1.5.0",
          "model_name": "HBoxModel",
          "state": {
            "_dom_classes": [],
            "_model_module": "@jupyter-widgets/controls",
            "_model_module_version": "1.5.0",
            "_model_name": "HBoxModel",
            "_view_count": null,
            "_view_module": "@jupyter-widgets/controls",
            "_view_module_version": "1.5.0",
            "_view_name": "HBoxView",
            "box_style": "",
            "children": [
              "IPY_MODEL_8720c34815884ac1bbd1c3cdcf89f49c",
              "IPY_MODEL_d6dc9ac0c6884bd9a4d77914ea85317b",
              "IPY_MODEL_b458fa8c1522488092e61c1437a4a98b"
            ],
            "layout": "IPY_MODEL_422a3ad50f6e4e15a282ccd57c224c2d"
          }
        },
        "aa0c8b6957af40e3b4047a5110fe6bcf": {
          "model_module": "@jupyter-widgets/base",
          "model_module_version": "1.2.0",
          "model_name": "LayoutModel",
          "state": {
            "_model_module": "@jupyter-widgets/base",
            "_model_module_version": "1.2.0",
            "_model_name": "LayoutModel",
            "_view_count": null,
            "_view_module": "@jupyter-widgets/base",
            "_view_module_version": "1.2.0",
            "_view_name": "LayoutView",
            "align_content": null,
            "align_items": null,
            "align_self": null,
            "border": null,
            "bottom": null,
            "display": null,
            "flex": null,
            "flex_flow": null,
            "grid_area": null,
            "grid_auto_columns": null,
            "grid_auto_flow": null,
            "grid_auto_rows": null,
            "grid_column": null,
            "grid_gap": null,
            "grid_row": null,
            "grid_template_areas": null,
            "grid_template_columns": null,
            "grid_template_rows": null,
            "height": null,
            "justify_content": null,
            "justify_items": null,
            "left": null,
            "margin": null,
            "max_height": null,
            "max_width": null,
            "min_height": null,
            "min_width": null,
            "object_fit": null,
            "object_position": null,
            "order": null,
            "overflow": null,
            "overflow_x": null,
            "overflow_y": null,
            "padding": null,
            "right": null,
            "top": null,
            "visibility": null,
            "width": null
          }
        },
        "ad5bf7a0b6e348d89c11c5f0957897c8": {
          "model_module": "@jupyter-widgets/base",
          "model_module_version": "1.2.0",
          "model_name": "LayoutModel",
          "state": {
            "_model_module": "@jupyter-widgets/base",
            "_model_module_version": "1.2.0",
            "_model_name": "LayoutModel",
            "_view_count": null,
            "_view_module": "@jupyter-widgets/base",
            "_view_module_version": "1.2.0",
            "_view_name": "LayoutView",
            "align_content": null,
            "align_items": null,
            "align_self": null,
            "border": null,
            "bottom": null,
            "display": null,
            "flex": null,
            "flex_flow": null,
            "grid_area": null,
            "grid_auto_columns": null,
            "grid_auto_flow": null,
            "grid_auto_rows": null,
            "grid_column": null,
            "grid_gap": null,
            "grid_row": null,
            "grid_template_areas": null,
            "grid_template_columns": null,
            "grid_template_rows": null,
            "height": null,
            "justify_content": null,
            "justify_items": null,
            "left": null,
            "margin": null,
            "max_height": null,
            "max_width": null,
            "min_height": null,
            "min_width": null,
            "object_fit": null,
            "object_position": null,
            "order": null,
            "overflow": null,
            "overflow_x": null,
            "overflow_y": null,
            "padding": null,
            "right": null,
            "top": null,
            "visibility": null,
            "width": null
          }
        },
        "af85c6147e1d41818a14e0a66f42eac0": {
          "model_module": "@jupyter-widgets/controls",
          "model_module_version": "1.5.0",
          "model_name": "ProgressStyleModel",
          "state": {
            "_model_module": "@jupyter-widgets/controls",
            "_model_module_version": "1.5.0",
            "_model_name": "ProgressStyleModel",
            "_view_count": null,
            "_view_module": "@jupyter-widgets/base",
            "_view_module_version": "1.2.0",
            "_view_name": "StyleView",
            "bar_color": null,
            "description_width": ""
          }
        },
        "b00d7ef267ce4cd5b18ee82465687c48": {
          "model_module": "@jupyter-widgets/base",
          "model_module_version": "1.2.0",
          "model_name": "LayoutModel",
          "state": {
            "_model_module": "@jupyter-widgets/base",
            "_model_module_version": "1.2.0",
            "_model_name": "LayoutModel",
            "_view_count": null,
            "_view_module": "@jupyter-widgets/base",
            "_view_module_version": "1.2.0",
            "_view_name": "LayoutView",
            "align_content": null,
            "align_items": null,
            "align_self": null,
            "border": null,
            "bottom": null,
            "display": null,
            "flex": null,
            "flex_flow": null,
            "grid_area": null,
            "grid_auto_columns": null,
            "grid_auto_flow": null,
            "grid_auto_rows": null,
            "grid_column": null,
            "grid_gap": null,
            "grid_row": null,
            "grid_template_areas": null,
            "grid_template_columns": null,
            "grid_template_rows": null,
            "height": null,
            "justify_content": null,
            "justify_items": null,
            "left": null,
            "margin": null,
            "max_height": null,
            "max_width": null,
            "min_height": null,
            "min_width": null,
            "object_fit": null,
            "object_position": null,
            "order": null,
            "overflow": null,
            "overflow_x": null,
            "overflow_y": null,
            "padding": null,
            "right": null,
            "top": null,
            "visibility": null,
            "width": null
          }
        },
        "b458fa8c1522488092e61c1437a4a98b": {
          "model_module": "@jupyter-widgets/controls",
          "model_module_version": "1.5.0",
          "model_name": "HTMLModel",
          "state": {
            "_dom_classes": [],
            "_model_module": "@jupyter-widgets/controls",
            "_model_module_version": "1.5.0",
            "_model_name": "HTMLModel",
            "_view_count": null,
            "_view_module": "@jupyter-widgets/controls",
            "_view_module_version": "1.5.0",
            "_view_name": "HTMLView",
            "description": "",
            "description_tooltip": null,
            "layout": "IPY_MODEL_15bbc2d4c656470484e0bb988fae38b4",
            "placeholder": "​",
            "style": "IPY_MODEL_ff4d6ecbc7a1456ba6e8d84d12e0f5f3",
            "value": " 23376/24998 [00:01&lt;00:00, 17092.65 examples/s]"
          }
        },
        "b5a2ecfce8fb490584d20a0c1b89cf18": {
          "model_module": "@jupyter-widgets/controls",
          "model_module_version": "1.5.0",
          "model_name": "FloatProgressModel",
          "state": {
            "_dom_classes": [],
            "_model_module": "@jupyter-widgets/controls",
            "_model_module_version": "1.5.0",
            "_model_name": "FloatProgressModel",
            "_view_count": null,
            "_view_module": "@jupyter-widgets/controls",
            "_view_module_version": "1.5.0",
            "_view_name": "ProgressView",
            "bar_style": "success",
            "description": "",
            "description_tooltip": null,
            "layout": "IPY_MODEL_3bd229f2101941b59cfc738771556e12",
            "max": 21369,
            "min": 0,
            "orientation": "horizontal",
            "style": "IPY_MODEL_7b15d3c05dd74b588638c8f078335d4b",
            "value": 21369
          }
        },
        "b6c0a4a296e845d6b96e67232aa05017": {
          "model_module": "@jupyter-widgets/controls",
          "model_module_version": "1.5.0",
          "model_name": "HTMLModel",
          "state": {
            "_dom_classes": [],
            "_model_module": "@jupyter-widgets/controls",
            "_model_module_version": "1.5.0",
            "_model_name": "HTMLModel",
            "_view_count": null,
            "_view_module": "@jupyter-widgets/controls",
            "_view_module_version": "1.5.0",
            "_view_name": "HTMLView",
            "description": "",
            "description_tooltip": null,
            "layout": "IPY_MODEL_1672d0fc0ec44409bed2af72cfc1b870",
            "placeholder": "​",
            "style": "IPY_MODEL_335b5da8ba0b4529941531470c85cfc4",
            "value": "Downloading readme: 100%"
          }
        },
        "b846a9daa5664b1d8abb8867bbfad9bd": {
          "model_module": "@jupyter-widgets/base",
          "model_module_version": "1.2.0",
          "model_name": "LayoutModel",
          "state": {
            "_model_module": "@jupyter-widgets/base",
            "_model_module_version": "1.2.0",
            "_model_name": "LayoutModel",
            "_view_count": null,
            "_view_module": "@jupyter-widgets/base",
            "_view_module_version": "1.2.0",
            "_view_name": "LayoutView",
            "align_content": null,
            "align_items": null,
            "align_self": null,
            "border": null,
            "bottom": null,
            "display": null,
            "flex": null,
            "flex_flow": null,
            "grid_area": null,
            "grid_auto_columns": null,
            "grid_auto_flow": null,
            "grid_auto_rows": null,
            "grid_column": null,
            "grid_gap": null,
            "grid_row": null,
            "grid_template_areas": null,
            "grid_template_columns": null,
            "grid_template_rows": null,
            "height": null,
            "justify_content": null,
            "justify_items": null,
            "left": null,
            "margin": null,
            "max_height": null,
            "max_width": null,
            "min_height": null,
            "min_width": null,
            "object_fit": null,
            "object_position": null,
            "order": null,
            "overflow": null,
            "overflow_x": null,
            "overflow_y": null,
            "padding": null,
            "right": null,
            "top": null,
            "visibility": null,
            "width": null
          }
        },
        "bd4ae2ee0d9045988abe3c4fbbeb696e": {
          "model_module": "@jupyter-widgets/base",
          "model_module_version": "1.2.0",
          "model_name": "LayoutModel",
          "state": {
            "_model_module": "@jupyter-widgets/base",
            "_model_module_version": "1.2.0",
            "_model_name": "LayoutModel",
            "_view_count": null,
            "_view_module": "@jupyter-widgets/base",
            "_view_module_version": "1.2.0",
            "_view_name": "LayoutView",
            "align_content": null,
            "align_items": null,
            "align_self": null,
            "border": null,
            "bottom": null,
            "display": null,
            "flex": null,
            "flex_flow": null,
            "grid_area": null,
            "grid_auto_columns": null,
            "grid_auto_flow": null,
            "grid_auto_rows": null,
            "grid_column": null,
            "grid_gap": null,
            "grid_row": null,
            "grid_template_areas": null,
            "grid_template_columns": null,
            "grid_template_rows": null,
            "height": null,
            "justify_content": null,
            "justify_items": null,
            "left": null,
            "margin": null,
            "max_height": null,
            "max_width": null,
            "min_height": null,
            "min_width": null,
            "object_fit": null,
            "object_position": null,
            "order": null,
            "overflow": null,
            "overflow_x": null,
            "overflow_y": null,
            "padding": null,
            "right": null,
            "top": null,
            "visibility": null,
            "width": null
          }
        },
        "bf03e416baaa4af7bd46777412c024fd": {
          "model_module": "@jupyter-widgets/controls",
          "model_module_version": "1.5.0",
          "model_name": "HTMLModel",
          "state": {
            "_dom_classes": [],
            "_model_module": "@jupyter-widgets/controls",
            "_model_module_version": "1.5.0",
            "_model_name": "HTMLModel",
            "_view_count": null,
            "_view_module": "@jupyter-widgets/controls",
            "_view_module_version": "1.5.0",
            "_view_name": "HTMLView",
            "description": "",
            "description_tooltip": null,
            "layout": "IPY_MODEL_09b5c15afe694598a97fab841249abb5",
            "placeholder": "​",
            "style": "IPY_MODEL_65bc99237c9e4d50bd65b51b8e5b4053",
            "value": "100%"
          }
        },
        "c19658b019644157b3949191d1df2f51": {
          "model_module": "@jupyter-widgets/base",
          "model_module_version": "1.2.0",
          "model_name": "LayoutModel",
          "state": {
            "_model_module": "@jupyter-widgets/base",
            "_model_module_version": "1.2.0",
            "_model_name": "LayoutModel",
            "_view_count": null,
            "_view_module": "@jupyter-widgets/base",
            "_view_module_version": "1.2.0",
            "_view_name": "LayoutView",
            "align_content": null,
            "align_items": null,
            "align_self": null,
            "border": null,
            "bottom": null,
            "display": null,
            "flex": null,
            "flex_flow": null,
            "grid_area": null,
            "grid_auto_columns": null,
            "grid_auto_flow": null,
            "grid_auto_rows": null,
            "grid_column": null,
            "grid_gap": null,
            "grid_row": null,
            "grid_template_areas": null,
            "grid_template_columns": null,
            "grid_template_rows": null,
            "height": null,
            "justify_content": null,
            "justify_items": null,
            "left": null,
            "margin": null,
            "max_height": null,
            "max_width": null,
            "min_height": null,
            "min_width": null,
            "object_fit": null,
            "object_position": null,
            "order": null,
            "overflow": null,
            "overflow_x": null,
            "overflow_y": null,
            "padding": null,
            "right": null,
            "top": null,
            "visibility": null,
            "width": null
          }
        },
        "c4cc364e2499441bb26f03f9abf29182": {
          "model_module": "@jupyter-widgets/controls",
          "model_module_version": "1.5.0",
          "model_name": "ProgressStyleModel",
          "state": {
            "_model_module": "@jupyter-widgets/controls",
            "_model_module_version": "1.5.0",
            "_model_name": "ProgressStyleModel",
            "_view_count": null,
            "_view_module": "@jupyter-widgets/base",
            "_view_module_version": "1.2.0",
            "_view_name": "StyleView",
            "bar_color": null,
            "description_width": ""
          }
        },
        "c9403e925252471893162e98df74507e": {
          "model_module": "@jupyter-widgets/base",
          "model_module_version": "1.2.0",
          "model_name": "LayoutModel",
          "state": {
            "_model_module": "@jupyter-widgets/base",
            "_model_module_version": "1.2.0",
            "_model_name": "LayoutModel",
            "_view_count": null,
            "_view_module": "@jupyter-widgets/base",
            "_view_module_version": "1.2.0",
            "_view_name": "LayoutView",
            "align_content": null,
            "align_items": null,
            "align_self": null,
            "border": null,
            "bottom": null,
            "display": null,
            "flex": null,
            "flex_flow": null,
            "grid_area": null,
            "grid_auto_columns": null,
            "grid_auto_flow": null,
            "grid_auto_rows": null,
            "grid_column": null,
            "grid_gap": null,
            "grid_row": null,
            "grid_template_areas": null,
            "grid_template_columns": null,
            "grid_template_rows": null,
            "height": null,
            "justify_content": null,
            "justify_items": null,
            "left": null,
            "margin": null,
            "max_height": null,
            "max_width": null,
            "min_height": null,
            "min_width": null,
            "object_fit": null,
            "object_position": null,
            "order": null,
            "overflow": null,
            "overflow_x": null,
            "overflow_y": null,
            "padding": null,
            "right": null,
            "top": null,
            "visibility": null,
            "width": null
          }
        },
        "cc35277fdfe143a8bc4329a4f7b61ffd": {
          "model_module": "@jupyter-widgets/controls",
          "model_module_version": "1.5.0",
          "model_name": "HTMLModel",
          "state": {
            "_dom_classes": [],
            "_model_module": "@jupyter-widgets/controls",
            "_model_module_version": "1.5.0",
            "_model_name": "HTMLModel",
            "_view_count": null,
            "_view_module": "@jupyter-widgets/controls",
            "_view_module_version": "1.5.0",
            "_view_name": "HTMLView",
            "description": "",
            "description_tooltip": null,
            "layout": "IPY_MODEL_50fa280f92cd49baa34854243dee15ce",
            "placeholder": "​",
            "style": "IPY_MODEL_945d3b9244b54e50a9e89a1c3206027b",
            "value": " 1.26M/1.26M [00:01&lt;00:00, 1.16MB/s]"
          }
        },
        "ce17d0f8123d442f9eb4d309489f5757": {
          "model_module": "@jupyter-widgets/controls",
          "model_module_version": "1.5.0",
          "model_name": "ProgressStyleModel",
          "state": {
            "_model_module": "@jupyter-widgets/controls",
            "_model_module_version": "1.5.0",
            "_model_name": "ProgressStyleModel",
            "_view_count": null,
            "_view_module": "@jupyter-widgets/base",
            "_view_module_version": "1.2.0",
            "_view_name": "StyleView",
            "bar_color": null,
            "description_width": ""
          }
        },
        "d4bb78cc2f474d7ab7808907eb2dd222": {
          "model_module": "@jupyter-widgets/controls",
          "model_module_version": "1.5.0",
          "model_name": "HTMLModel",
          "state": {
            "_dom_classes": [],
            "_model_module": "@jupyter-widgets/controls",
            "_model_module_version": "1.5.0",
            "_model_name": "HTMLModel",
            "_view_count": null,
            "_view_module": "@jupyter-widgets/controls",
            "_view_module_version": "1.5.0",
            "_view_name": "HTMLView",
            "description": "",
            "description_tooltip": null,
            "layout": "IPY_MODEL_8cf4e9d3e92e4548ae39d37038a1a72d",
            "placeholder": "​",
            "style": "IPY_MODEL_69a91b1df610417cb77ecbe830188f4a",
            "value": "Downloading metadata: 100%"
          }
        },
        "d6dc9ac0c6884bd9a4d77914ea85317b": {
          "model_module": "@jupyter-widgets/controls",
          "model_module_version": "1.5.0",
          "model_name": "FloatProgressModel",
          "state": {
            "_dom_classes": [],
            "_model_module": "@jupyter-widgets/controls",
            "_model_module_version": "1.5.0",
            "_model_name": "FloatProgressModel",
            "_view_count": null,
            "_view_module": "@jupyter-widgets/controls",
            "_view_module_version": "1.5.0",
            "_view_name": "ProgressView",
            "bar_style": "",
            "description": "",
            "description_tooltip": null,
            "layout": "IPY_MODEL_180472b0049548af81003488ab77651b",
            "max": 24998,
            "min": 0,
            "orientation": "horizontal",
            "style": "IPY_MODEL_20f805f611d944ecb99c56187ec8f9ef",
            "value": 24998
          }
        },
        "d869367af6904424b0792eb408c2de84": {
          "model_module": "@jupyter-widgets/base",
          "model_module_version": "1.2.0",
          "model_name": "LayoutModel",
          "state": {
            "_model_module": "@jupyter-widgets/base",
            "_model_module_version": "1.2.0",
            "_model_name": "LayoutModel",
            "_view_count": null,
            "_view_module": "@jupyter-widgets/base",
            "_view_module_version": "1.2.0",
            "_view_name": "LayoutView",
            "align_content": null,
            "align_items": null,
            "align_self": null,
            "border": null,
            "bottom": null,
            "display": null,
            "flex": null,
            "flex_flow": null,
            "grid_area": null,
            "grid_auto_columns": null,
            "grid_auto_flow": null,
            "grid_auto_rows": null,
            "grid_column": null,
            "grid_gap": null,
            "grid_row": null,
            "grid_template_areas": null,
            "grid_template_columns": null,
            "grid_template_rows": null,
            "height": null,
            "justify_content": null,
            "justify_items": null,
            "left": null,
            "margin": null,
            "max_height": null,
            "max_width": null,
            "min_height": null,
            "min_width": null,
            "object_fit": null,
            "object_position": null,
            "order": null,
            "overflow": null,
            "overflow_x": null,
            "overflow_y": null,
            "padding": null,
            "right": null,
            "top": null,
            "visibility": null,
            "width": null
          }
        },
        "d8f9ea2cee4f4e0ba6c6f4fae7fbe9e3": {
          "model_module": "@jupyter-widgets/controls",
          "model_module_version": "1.5.0",
          "model_name": "FloatProgressModel",
          "state": {
            "_dom_classes": [],
            "_model_module": "@jupyter-widgets/controls",
            "_model_module_version": "1.5.0",
            "_model_name": "FloatProgressModel",
            "_view_count": null,
            "_view_module": "@jupyter-widgets/controls",
            "_view_module_version": "1.5.0",
            "_view_name": "ProgressView",
            "bar_style": "success",
            "description": "",
            "description_tooltip": null,
            "layout": "IPY_MODEL_ad5bf7a0b6e348d89c11c5f0957897c8",
            "max": 995526,
            "min": 0,
            "orientation": "horizontal",
            "style": "IPY_MODEL_5ab2a96256af4ea9b4b7d8338f35eaa4",
            "value": 995526
          }
        },
        "da83d09f124843c3960964e49d85a316": {
          "model_module": "@jupyter-widgets/controls",
          "model_module_version": "1.5.0",
          "model_name": "FloatProgressModel",
          "state": {
            "_dom_classes": [],
            "_model_module": "@jupyter-widgets/controls",
            "_model_module_version": "1.5.0",
            "_model_name": "FloatProgressModel",
            "_view_count": null,
            "_view_module": "@jupyter-widgets/controls",
            "_view_module_version": "1.5.0",
            "_view_name": "ProgressView",
            "bar_style": "",
            "description": "",
            "description_tooltip": null,
            "layout": "IPY_MODEL_d869367af6904424b0792eb408c2de84",
            "max": 3000,
            "min": 0,
            "orientation": "horizontal",
            "style": "IPY_MODEL_5dd3deec438e42d284f1ce2557316e9d",
            "value": 3000
          }
        },
        "db06d404eff640d7bfef0ff62c6b2c28": {
          "model_module": "@jupyter-widgets/controls",
          "model_module_version": "1.5.0",
          "model_name": "HTMLModel",
          "state": {
            "_dom_classes": [],
            "_model_module": "@jupyter-widgets/controls",
            "_model_module_version": "1.5.0",
            "_model_name": "HTMLModel",
            "_view_count": null,
            "_view_module": "@jupyter-widgets/controls",
            "_view_module_version": "1.5.0",
            "_view_name": "HTMLView",
            "description": "",
            "description_tooltip": null,
            "layout": "IPY_MODEL_b846a9daa5664b1d8abb8867bbfad9bd",
            "placeholder": "​",
            "style": "IPY_MODEL_6ae08cd038e14259a75c15ddb21f249f",
            "value": " 714M/714M [00:10&lt;00:00, 63.0MB/s]"
          }
        },
        "dc4e9653c63840f385aa71574f7d47ce": {
          "model_module": "@jupyter-widgets/controls",
          "model_module_version": "1.5.0",
          "model_name": "HTMLModel",
          "state": {
            "_dom_classes": [],
            "_model_module": "@jupyter-widgets/controls",
            "_model_module_version": "1.5.0",
            "_model_name": "HTMLModel",
            "_view_count": null,
            "_view_module": "@jupyter-widgets/controls",
            "_view_module_version": "1.5.0",
            "_view_name": "HTMLView",
            "description": "",
            "description_tooltip": null,
            "layout": "IPY_MODEL_2347c95caae8460c864c663b76e2b278",
            "placeholder": "​",
            "style": "IPY_MODEL_a369de17bea9452ba87991a7f5f2c665",
            "value": " 23.3k/23.3k [00:00&lt;00:00, 711kB/s]"
          }
        },
        "ddea1fa41e18427da732621cc460e1a3": {
          "model_module": "@jupyter-widgets/base",
          "model_module_version": "1.2.0",
          "model_name": "LayoutModel",
          "state": {
            "_model_module": "@jupyter-widgets/base",
            "_model_module_version": "1.2.0",
            "_model_name": "LayoutModel",
            "_view_count": null,
            "_view_module": "@jupyter-widgets/base",
            "_view_module_version": "1.2.0",
            "_view_name": "LayoutView",
            "align_content": null,
            "align_items": null,
            "align_self": null,
            "border": null,
            "bottom": null,
            "display": null,
            "flex": null,
            "flex_flow": null,
            "grid_area": null,
            "grid_auto_columns": null,
            "grid_auto_flow": null,
            "grid_auto_rows": null,
            "grid_column": null,
            "grid_gap": null,
            "grid_row": null,
            "grid_template_areas": null,
            "grid_template_columns": null,
            "grid_template_rows": null,
            "height": null,
            "justify_content": null,
            "justify_items": null,
            "left": null,
            "margin": null,
            "max_height": null,
            "max_width": null,
            "min_height": null,
            "min_width": null,
            "object_fit": null,
            "object_position": null,
            "order": null,
            "overflow": null,
            "overflow_x": null,
            "overflow_y": null,
            "padding": null,
            "right": null,
            "top": null,
            "visibility": null,
            "width": null
          }
        },
        "df918c9893504cc1b25744033e7e9258": {
          "model_module": "@jupyter-widgets/controls",
          "model_module_version": "1.5.0",
          "model_name": "DescriptionStyleModel",
          "state": {
            "_model_module": "@jupyter-widgets/controls",
            "_model_module_version": "1.5.0",
            "_model_name": "DescriptionStyleModel",
            "_view_count": null,
            "_view_module": "@jupyter-widgets/base",
            "_view_module_version": "1.2.0",
            "_view_name": "StyleView",
            "description_width": ""
          }
        },
        "dfc6b2425d7c4a5f90e9ed8c8f719494": {
          "model_module": "@jupyter-widgets/controls",
          "model_module_version": "1.5.0",
          "model_name": "DescriptionStyleModel",
          "state": {
            "_model_module": "@jupyter-widgets/controls",
            "_model_module_version": "1.5.0",
            "_model_name": "DescriptionStyleModel",
            "_view_count": null,
            "_view_module": "@jupyter-widgets/base",
            "_view_module_version": "1.2.0",
            "_view_name": "StyleView",
            "description_width": ""
          }
        },
        "e13a48c9ab834cd5841a7d2aac97536c": {
          "model_module": "@jupyter-widgets/controls",
          "model_module_version": "1.5.0",
          "model_name": "HBoxModel",
          "state": {
            "_dom_classes": [],
            "_model_module": "@jupyter-widgets/controls",
            "_model_module_version": "1.5.0",
            "_model_name": "HBoxModel",
            "_view_count": null,
            "_view_module": "@jupyter-widgets/controls",
            "_view_module_version": "1.5.0",
            "_view_name": "HBoxView",
            "box_style": "",
            "children": [
              "IPY_MODEL_d4bb78cc2f474d7ab7808907eb2dd222",
              "IPY_MODEL_87e8fd1f85904462832cfb4042c2f85d",
              "IPY_MODEL_f1d8a0fea25b4596b8075ce1abd1bb21"
            ],
            "layout": "IPY_MODEL_51d630af505a4ed6a60f1d9770a293fe"
          }
        },
        "e21e135828fd48b0a45e97403bc51651": {
          "model_module": "@jupyter-widgets/controls",
          "model_module_version": "1.5.0",
          "model_name": "FloatProgressModel",
          "state": {
            "_dom_classes": [],
            "_model_module": "@jupyter-widgets/controls",
            "_model_module_version": "1.5.0",
            "_model_name": "FloatProgressModel",
            "_view_count": null,
            "_view_module": "@jupyter-widgets/controls",
            "_view_module_version": "1.5.0",
            "_view_name": "ProgressView",
            "bar_style": "success",
            "description": "",
            "description_tooltip": null,
            "layout": "IPY_MODEL_221e565da161436bb0dd964f29b2148b",
            "max": 2,
            "min": 0,
            "orientation": "horizontal",
            "style": "IPY_MODEL_7c65969f95b04ae7a90bd7095a1cb5ad",
            "value": 2
          }
        },
        "ee0fa46c27434cb5ae1216d85e49cac7": {
          "model_module": "@jupyter-widgets/base",
          "model_module_version": "1.2.0",
          "model_name": "LayoutModel",
          "state": {
            "_model_module": "@jupyter-widgets/base",
            "_model_module_version": "1.2.0",
            "_model_name": "LayoutModel",
            "_view_count": null,
            "_view_module": "@jupyter-widgets/base",
            "_view_module_version": "1.2.0",
            "_view_name": "LayoutView",
            "align_content": null,
            "align_items": null,
            "align_self": null,
            "border": null,
            "bottom": null,
            "display": null,
            "flex": null,
            "flex_flow": null,
            "grid_area": null,
            "grid_auto_columns": null,
            "grid_auto_flow": null,
            "grid_auto_rows": null,
            "grid_column": null,
            "grid_gap": null,
            "grid_row": null,
            "grid_template_areas": null,
            "grid_template_columns": null,
            "grid_template_rows": null,
            "height": null,
            "justify_content": null,
            "justify_items": null,
            "left": null,
            "margin": null,
            "max_height": null,
            "max_width": null,
            "min_height": null,
            "min_width": null,
            "object_fit": null,
            "object_position": null,
            "order": null,
            "overflow": null,
            "overflow_x": null,
            "overflow_y": null,
            "padding": null,
            "right": null,
            "top": null,
            "visibility": null,
            "width": null
          }
        },
        "f1d8a0fea25b4596b8075ce1abd1bb21": {
          "model_module": "@jupyter-widgets/controls",
          "model_module_version": "1.5.0",
          "model_name": "HTMLModel",
          "state": {
            "_dom_classes": [],
            "_model_module": "@jupyter-widgets/controls",
            "_model_module_version": "1.5.0",
            "_model_name": "HTMLModel",
            "_view_count": null,
            "_view_module": "@jupyter-widgets/controls",
            "_view_module_version": "1.5.0",
            "_view_name": "HTMLView",
            "description": "",
            "description_tooltip": null,
            "layout": "IPY_MODEL_a05769cf845340158d20583aceda02a6",
            "placeholder": "​",
            "style": "IPY_MODEL_2c9fbd2f33b04b2c9da1132c90b11b62",
            "value": " 22.7k/22.7k [00:00&lt;00:00, 763kB/s]"
          }
        },
        "f272cf655ef347ac9d81f3452e39e8e6": {
          "model_module": "@jupyter-widgets/base",
          "model_module_version": "1.2.0",
          "model_name": "LayoutModel",
          "state": {
            "_model_module": "@jupyter-widgets/base",
            "_model_module_version": "1.2.0",
            "_model_name": "LayoutModel",
            "_view_count": null,
            "_view_module": "@jupyter-widgets/base",
            "_view_module_version": "1.2.0",
            "_view_name": "LayoutView",
            "align_content": null,
            "align_items": null,
            "align_self": null,
            "border": null,
            "bottom": null,
            "display": null,
            "flex": null,
            "flex_flow": null,
            "grid_area": null,
            "grid_auto_columns": null,
            "grid_auto_flow": null,
            "grid_auto_rows": null,
            "grid_column": null,
            "grid_gap": null,
            "grid_row": null,
            "grid_template_areas": null,
            "grid_template_columns": null,
            "grid_template_rows": null,
            "height": null,
            "justify_content": null,
            "justify_items": null,
            "left": null,
            "margin": null,
            "max_height": null,
            "max_width": null,
            "min_height": null,
            "min_width": null,
            "object_fit": null,
            "object_position": null,
            "order": null,
            "overflow": null,
            "overflow_x": null,
            "overflow_y": null,
            "padding": null,
            "right": null,
            "top": null,
            "visibility": null,
            "width": null
          }
        },
        "f29a7f7b5ff54bd090141a9b36495fbb": {
          "model_module": "@jupyter-widgets/base",
          "model_module_version": "1.2.0",
          "model_name": "LayoutModel",
          "state": {
            "_model_module": "@jupyter-widgets/base",
            "_model_module_version": "1.2.0",
            "_model_name": "LayoutModel",
            "_view_count": null,
            "_view_module": "@jupyter-widgets/base",
            "_view_module_version": "1.2.0",
            "_view_name": "LayoutView",
            "align_content": null,
            "align_items": null,
            "align_self": null,
            "border": null,
            "bottom": null,
            "display": null,
            "flex": null,
            "flex_flow": null,
            "grid_area": null,
            "grid_auto_columns": null,
            "grid_auto_flow": null,
            "grid_auto_rows": null,
            "grid_column": null,
            "grid_gap": null,
            "grid_row": null,
            "grid_template_areas": null,
            "grid_template_columns": null,
            "grid_template_rows": null,
            "height": null,
            "justify_content": null,
            "justify_items": null,
            "left": null,
            "margin": null,
            "max_height": null,
            "max_width": null,
            "min_height": null,
            "min_width": null,
            "object_fit": null,
            "object_position": null,
            "order": null,
            "overflow": null,
            "overflow_x": null,
            "overflow_y": null,
            "padding": null,
            "right": null,
            "top": null,
            "visibility": null,
            "width": null
          }
        },
        "f322af6f18644ef1967202c4e716783c": {
          "model_module": "@jupyter-widgets/controls",
          "model_module_version": "1.5.0",
          "model_name": "HBoxModel",
          "state": {
            "_dom_classes": [],
            "_model_module": "@jupyter-widgets/controls",
            "_model_module_version": "1.5.0",
            "_model_name": "HBoxModel",
            "_view_count": null,
            "_view_module": "@jupyter-widgets/controls",
            "_view_module_version": "1.5.0",
            "_view_name": "HBoxView",
            "box_style": "",
            "children": [
              "IPY_MODEL_0ef2e31d8c844daa961fe037d142374f",
              "IPY_MODEL_da83d09f124843c3960964e49d85a316",
              "IPY_MODEL_705ae7dbf93c4d929186327e89231139"
            ],
            "layout": "IPY_MODEL_00783b83a27444948ee67bf46aef3d0c"
          }
        },
        "fe516d508db64a739e1c16b5aaad1136": {
          "model_module": "@jupyter-widgets/base",
          "model_module_version": "1.2.0",
          "model_name": "LayoutModel",
          "state": {
            "_model_module": "@jupyter-widgets/base",
            "_model_module_version": "1.2.0",
            "_model_name": "LayoutModel",
            "_view_count": null,
            "_view_module": "@jupyter-widgets/base",
            "_view_module_version": "1.2.0",
            "_view_name": "LayoutView",
            "align_content": null,
            "align_items": null,
            "align_self": null,
            "border": null,
            "bottom": null,
            "display": null,
            "flex": null,
            "flex_flow": null,
            "grid_area": null,
            "grid_auto_columns": null,
            "grid_auto_flow": null,
            "grid_auto_rows": null,
            "grid_column": null,
            "grid_gap": null,
            "grid_row": null,
            "grid_template_areas": null,
            "grid_template_columns": null,
            "grid_template_rows": null,
            "height": null,
            "justify_content": null,
            "justify_items": null,
            "left": null,
            "margin": null,
            "max_height": null,
            "max_width": null,
            "min_height": null,
            "min_width": null,
            "object_fit": null,
            "object_position": null,
            "order": null,
            "overflow": null,
            "overflow_x": null,
            "overflow_y": null,
            "padding": null,
            "right": null,
            "top": null,
            "visibility": null,
            "width": null
          }
        },
        "ff4d6ecbc7a1456ba6e8d84d12e0f5f3": {
          "model_module": "@jupyter-widgets/controls",
          "model_module_version": "1.5.0",
          "model_name": "DescriptionStyleModel",
          "state": {
            "_model_module": "@jupyter-widgets/controls",
            "_model_module_version": "1.5.0",
            "_model_name": "DescriptionStyleModel",
            "_view_count": null,
            "_view_module": "@jupyter-widgets/base",
            "_view_module_version": "1.2.0",
            "_view_name": "StyleView",
            "description_width": ""
          }
        }
      }
    }
  },
  "nbformat": 4,
  "nbformat_minor": 0
}